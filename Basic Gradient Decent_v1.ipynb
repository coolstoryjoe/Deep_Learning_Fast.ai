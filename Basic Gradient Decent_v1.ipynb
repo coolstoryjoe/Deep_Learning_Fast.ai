{
 "cells": [
  {
   "cell_type": "code",
   "execution_count": 4,
   "id": "5e0590e8",
   "metadata": {},
   "outputs": [
    {
     "name": "stdout",
     "output_type": "stream",
     "text": [
      "Requirement already satisfied: fastai in c:\\users\\joseph.oleynik\\anaconda3\\lib\\site-packages (2.7.11)\n",
      "Requirement already satisfied: requests in c:\\users\\joseph.oleynik\\anaconda3\\lib\\site-packages (from fastai) (2.27.1)\n",
      "Requirement already satisfied: scikit-learn in c:\\users\\joseph.oleynik\\anaconda3\\lib\\site-packages (from fastai) (1.0.2)\n",
      "Requirement already satisfied: pip in c:\\users\\joseph.oleynik\\anaconda3\\lib\\site-packages (from fastai) (21.2.4)\n",
      "Requirement already satisfied: matplotlib in c:\\users\\joseph.oleynik\\anaconda3\\lib\\site-packages (from fastai) (3.5.1)\n",
      "Requirement already satisfied: spacy<4 in c:\\users\\joseph.oleynik\\anaconda3\\lib\\site-packages (from fastai) (3.5.0)\n",
      "Requirement already satisfied: fastprogress>=0.2.4 in c:\\users\\joseph.oleynik\\anaconda3\\lib\\site-packages (from fastai) (1.0.3)\n",
      "Requirement already satisfied: packaging in c:\\users\\joseph.oleynik\\anaconda3\\lib\\site-packages (from fastai) (21.3)\n",
      "Requirement already satisfied: pillow>6.0.0 in c:\\users\\joseph.oleynik\\anaconda3\\lib\\site-packages (from fastai) (9.0.1)\n",
      "Requirement already satisfied: fastcore<1.6,>=1.4.5 in c:\\users\\joseph.oleynik\\anaconda3\\lib\\site-packages (from fastai) (1.5.28)\n",
      "Requirement already satisfied: torchvision>=0.8.2 in c:\\users\\joseph.oleynik\\anaconda3\\lib\\site-packages (from fastai) (0.14.1)\n",
      "Requirement already satisfied: scipy in c:\\users\\joseph.oleynik\\anaconda3\\lib\\site-packages (from fastai) (1.7.3)\n",
      "Requirement already satisfied: fastdownload<2,>=0.0.5 in c:\\users\\joseph.oleynik\\anaconda3\\lib\\site-packages (from fastai) (0.0.7)\n",
      "Requirement already satisfied: pyyaml in c:\\users\\joseph.oleynik\\anaconda3\\lib\\site-packages (from fastai) (6.0)\n",
      "Requirement already satisfied: torch<1.14,>=1.7 in c:\\users\\joseph.oleynik\\anaconda3\\lib\\site-packages (from fastai) (1.13.1)\n",
      "Requirement already satisfied: pandas in c:\\users\\joseph.oleynik\\anaconda3\\lib\\site-packages (from fastai) (1.4.2)\n",
      "Requirement already satisfied: spacy-loggers<2.0.0,>=1.0.0 in c:\\users\\joseph.oleynik\\anaconda3\\lib\\site-packages (from spacy<4->fastai) (1.0.4)\n",
      "Requirement already satisfied: wasabi<1.2.0,>=0.9.1 in c:\\users\\joseph.oleynik\\anaconda3\\lib\\site-packages (from spacy<4->fastai) (1.1.1)\n",
      "Requirement already satisfied: preshed<3.1.0,>=3.0.2 in c:\\users\\joseph.oleynik\\anaconda3\\lib\\site-packages (from spacy<4->fastai) (3.0.8)\n",
      "Requirement already satisfied: spacy-legacy<3.1.0,>=3.0.11 in c:\\users\\joseph.oleynik\\anaconda3\\lib\\site-packages (from spacy<4->fastai) (3.0.12)\n",
      "Requirement already satisfied: srsly<3.0.0,>=2.4.3 in c:\\users\\joseph.oleynik\\anaconda3\\lib\\site-packages (from spacy<4->fastai) (2.4.5)\n",
      "Requirement already satisfied: catalogue<2.1.0,>=2.0.6 in c:\\users\\joseph.oleynik\\anaconda3\\lib\\site-packages (from spacy<4->fastai) (2.0.8)\n",
      "Requirement already satisfied: cymem<2.1.0,>=2.0.2 in c:\\users\\joseph.oleynik\\anaconda3\\lib\\site-packages (from spacy<4->fastai) (2.0.7)\n",
      "Requirement already satisfied: smart-open<7.0.0,>=5.2.1 in c:\\users\\joseph.oleynik\\anaconda3\\lib\\site-packages (from spacy<4->fastai) (6.3.0)\n",
      "Requirement already satisfied: murmurhash<1.1.0,>=0.28.0 in c:\\users\\joseph.oleynik\\anaconda3\\lib\\site-packages (from spacy<4->fastai) (1.0.9)\n",
      "Requirement already satisfied: typer<0.8.0,>=0.3.0 in c:\\users\\joseph.oleynik\\anaconda3\\lib\\site-packages (from spacy<4->fastai) (0.7.0)\n",
      "Requirement already satisfied: jinja2 in c:\\users\\joseph.oleynik\\anaconda3\\lib\\site-packages (from spacy<4->fastai) (2.11.3)\n",
      "Requirement already satisfied: pathy>=0.10.0 in c:\\users\\joseph.oleynik\\anaconda3\\lib\\site-packages (from spacy<4->fastai) (0.10.1)\n",
      "Requirement already satisfied: numpy>=1.15.0 in c:\\users\\joseph.oleynik\\anaconda3\\lib\\site-packages (from spacy<4->fastai) (1.21.5)\n",
      "Requirement already satisfied: langcodes<4.0.0,>=3.2.0 in c:\\users\\joseph.oleynik\\anaconda3\\lib\\site-packages (from spacy<4->fastai) (3.3.0)\n",
      "Requirement already satisfied: thinc<8.2.0,>=8.1.0 in c:\\users\\joseph.oleynik\\anaconda3\\lib\\site-packages (from spacy<4->fastai) (8.1.7)\n",
      "Requirement already satisfied: tqdm<5.0.0,>=4.38.0 in c:\\users\\joseph.oleynik\\anaconda3\\lib\\site-packages (from spacy<4->fastai) (4.64.0)\n",
      "Requirement already satisfied: pydantic!=1.8,!=1.8.1,<1.11.0,>=1.7.4 in c:\\users\\joseph.oleynik\\anaconda3\\lib\\site-packages (from spacy<4->fastai) (1.10.5)\n",
      "Requirement already satisfied: setuptools in c:\\users\\joseph.oleynik\\anaconda3\\lib\\site-packages (from spacy<4->fastai) (61.2.0)\n",
      "Requirement already satisfied: pyparsing!=3.0.5,>=2.0.2 in c:\\users\\joseph.oleynik\\anaconda3\\lib\\site-packages (from packaging->fastai) (3.0.4)\n",
      "Requirement already satisfied: typing-extensions>=4.2.0 in c:\\users\\joseph.oleynik\\anaconda3\\lib\\site-packages (from pydantic!=1.8,!=1.8.1,<1.11.0,>=1.7.4->spacy<4->fastai) (4.5.0)\n",
      "Requirement already satisfied: charset-normalizer~=2.0.0 in c:\\users\\joseph.oleynik\\anaconda3\\lib\\site-packages (from requests->fastai) (2.0.4)\n",
      "Requirement already satisfied: idna<4,>=2.5 in c:\\users\\joseph.oleynik\\anaconda3\\lib\\site-packages (from requests->fastai) (3.3)\n",
      "Requirement already satisfied: urllib3<1.27,>=1.21.1 in c:\\users\\joseph.oleynik\\anaconda3\\lib\\site-packages (from requests->fastai) (1.26.9)\n",
      "Requirement already satisfied: certifi>=2017.4.17 in c:\\users\\joseph.oleynik\\anaconda3\\lib\\site-packages (from requests->fastai) (2021.10.8)\n",
      "Requirement already satisfied: confection<1.0.0,>=0.0.1 in c:\\users\\joseph.oleynik\\anaconda3\\lib\\site-packages (from thinc<8.2.0,>=8.1.0->spacy<4->fastai) (0.0.4)\n",
      "Requirement already satisfied: blis<0.8.0,>=0.7.8 in c:\\users\\joseph.oleynik\\anaconda3\\lib\\site-packages (from thinc<8.2.0,>=8.1.0->spacy<4->fastai) (0.7.9)\n",
      "Requirement already satisfied: colorama in c:\\users\\joseph.oleynik\\anaconda3\\lib\\site-packages (from tqdm<5.0.0,>=4.38.0->spacy<4->fastai) (0.4.6)\n",
      "Requirement already satisfied: click<9.0.0,>=7.1.1 in c:\\users\\joseph.oleynik\\anaconda3\\lib\\site-packages (from typer<0.8.0,>=0.3.0->spacy<4->fastai) (8.0.4)\n",
      "Requirement already satisfied: MarkupSafe>=0.23 in c:\\users\\joseph.oleynik\\anaconda3\\lib\\site-packages (from jinja2->spacy<4->fastai) (2.0.1)\n",
      "Requirement already satisfied: fonttools>=4.22.0 in c:\\users\\joseph.oleynik\\anaconda3\\lib\\site-packages (from matplotlib->fastai) (4.25.0)\n",
      "Requirement already satisfied: python-dateutil>=2.7 in c:\\users\\joseph.oleynik\\anaconda3\\lib\\site-packages (from matplotlib->fastai) (2.8.2)\n",
      "Requirement already satisfied: kiwisolver>=1.0.1 in c:\\users\\joseph.oleynik\\anaconda3\\lib\\site-packages (from matplotlib->fastai) (1.3.2)\n",
      "Requirement already satisfied: cycler>=0.10 in c:\\users\\joseph.oleynik\\anaconda3\\lib\\site-packages (from matplotlib->fastai) (0.11.0)\n",
      "Requirement already satisfied: six>=1.5 in c:\\users\\joseph.oleynik\\anaconda3\\lib\\site-packages (from python-dateutil>=2.7->matplotlib->fastai) (1.16.0)\n",
      "Requirement already satisfied: pytz>=2020.1 in c:\\users\\joseph.oleynik\\anaconda3\\lib\\site-packages (from pandas->fastai) (2021.3)\n",
      "Requirement already satisfied: joblib>=0.11 in c:\\users\\joseph.oleynik\\anaconda3\\lib\\site-packages (from scikit-learn->fastai) (1.1.0)\n",
      "Requirement already satisfied: threadpoolctl>=2.0.0 in c:\\users\\joseph.oleynik\\anaconda3\\lib\\site-packages (from scikit-learn->fastai) (2.2.0)\n",
      "Requirement already satisfied: fastai in c:\\users\\joseph.oleynik\\anaconda3\\lib\\site-packages (2.7.11)\n",
      "Requirement already satisfied: matplotlib in c:\\users\\joseph.oleynik\\anaconda3\\lib\\site-packages (from fastai) (3.5.1)\n",
      "Requirement already satisfied: fastprogress>=0.2.4 in c:\\users\\joseph.oleynik\\anaconda3\\lib\\site-packages (from fastai) (1.0.3)\n",
      "Requirement already satisfied: fastcore<1.6,>=1.4.5 in c:\\users\\joseph.oleynik\\anaconda3\\lib\\site-packages (from fastai) (1.5.28)\n",
      "Requirement already satisfied: scikit-learn in c:\\users\\joseph.oleynik\\anaconda3\\lib\\site-packages (from fastai) (1.0.2)\n",
      "Requirement already satisfied: packaging in c:\\users\\joseph.oleynik\\anaconda3\\lib\\site-packages (from fastai) (21.3)\n",
      "Requirement already satisfied: torch<1.14,>=1.7 in c:\\users\\joseph.oleynik\\anaconda3\\lib\\site-packages (from fastai) (1.13.1)\n",
      "Requirement already satisfied: pip in c:\\users\\joseph.oleynik\\anaconda3\\lib\\site-packages (from fastai) (21.2.4)\n",
      "Requirement already satisfied: pandas in c:\\users\\joseph.oleynik\\anaconda3\\lib\\site-packages (from fastai) (1.4.2)\n",
      "Requirement already satisfied: spacy<4 in c:\\users\\joseph.oleynik\\anaconda3\\lib\\site-packages (from fastai) (3.5.0)\n",
      "Requirement already satisfied: pillow>6.0.0 in c:\\users\\joseph.oleynik\\anaconda3\\lib\\site-packages (from fastai) (9.0.1)\n",
      "Requirement already satisfied: fastdownload<2,>=0.0.5 in c:\\users\\joseph.oleynik\\anaconda3\\lib\\site-packages (from fastai) (0.0.7)\n",
      "Requirement already satisfied: requests in c:\\users\\joseph.oleynik\\anaconda3\\lib\\site-packages (from fastai) (2.27.1)\n",
      "Requirement already satisfied: pyyaml in c:\\users\\joseph.oleynik\\anaconda3\\lib\\site-packages (from fastai) (6.0)\n",
      "Requirement already satisfied: torchvision>=0.8.2 in c:\\users\\joseph.oleynik\\anaconda3\\lib\\site-packages (from fastai) (0.14.1)\n",
      "Requirement already satisfied: scipy in c:\\users\\joseph.oleynik\\anaconda3\\lib\\site-packages (from fastai) (1.7.3)\n",
      "Requirement already satisfied: preshed<3.1.0,>=3.0.2 in c:\\users\\joseph.oleynik\\anaconda3\\lib\\site-packages (from spacy<4->fastai) (3.0.8)\n",
      "Requirement already satisfied: langcodes<4.0.0,>=3.2.0 in c:\\users\\joseph.oleynik\\anaconda3\\lib\\site-packages (from spacy<4->fastai) (3.3.0)\n",
      "Requirement already satisfied: spacy-legacy<3.1.0,>=3.0.11 in c:\\users\\joseph.oleynik\\anaconda3\\lib\\site-packages (from spacy<4->fastai) (3.0.12)\n",
      "Requirement already satisfied: numpy>=1.15.0 in c:\\users\\joseph.oleynik\\anaconda3\\lib\\site-packages (from spacy<4->fastai) (1.21.5)\n",
      "Requirement already satisfied: pathy>=0.10.0 in c:\\users\\joseph.oleynik\\anaconda3\\lib\\site-packages (from spacy<4->fastai) (0.10.1)\n",
      "Requirement already satisfied: jinja2 in c:\\users\\joseph.oleynik\\anaconda3\\lib\\site-packages (from spacy<4->fastai) (2.11.3)\n",
      "Requirement already satisfied: spacy-loggers<2.0.0,>=1.0.0 in c:\\users\\joseph.oleynik\\anaconda3\\lib\\site-packages (from spacy<4->fastai) (1.0.4)\n",
      "Requirement already satisfied: wasabi<1.2.0,>=0.9.1 in c:\\users\\joseph.oleynik\\anaconda3\\lib\\site-packages (from spacy<4->fastai) (1.1.1)\n",
      "Requirement already satisfied: typer<0.8.0,>=0.3.0 in c:\\users\\joseph.oleynik\\anaconda3\\lib\\site-packages (from spacy<4->fastai) (0.7.0)\n",
      "Requirement already satisfied: srsly<3.0.0,>=2.4.3 in c:\\users\\joseph.oleynik\\anaconda3\\lib\\site-packages (from spacy<4->fastai) (2.4.5)\n",
      "Requirement already satisfied: thinc<8.2.0,>=8.1.0 in c:\\users\\joseph.oleynik\\anaconda3\\lib\\site-packages (from spacy<4->fastai) (8.1.7)\n",
      "Requirement already satisfied: pydantic!=1.8,!=1.8.1,<1.11.0,>=1.7.4 in c:\\users\\joseph.oleynik\\anaconda3\\lib\\site-packages (from spacy<4->fastai) (1.10.5)\n",
      "Requirement already satisfied: catalogue<2.1.0,>=2.0.6 in c:\\users\\joseph.oleynik\\anaconda3\\lib\\site-packages (from spacy<4->fastai) (2.0.8)\n",
      "Requirement already satisfied: setuptools in c:\\users\\joseph.oleynik\\anaconda3\\lib\\site-packages (from spacy<4->fastai) (61.2.0)\n",
      "Requirement already satisfied: murmurhash<1.1.0,>=0.28.0 in c:\\users\\joseph.oleynik\\anaconda3\\lib\\site-packages (from spacy<4->fastai) (1.0.9)\n",
      "Requirement already satisfied: tqdm<5.0.0,>=4.38.0 in c:\\users\\joseph.oleynik\\anaconda3\\lib\\site-packages (from spacy<4->fastai) (4.64.0)\n",
      "Requirement already satisfied: cymem<2.1.0,>=2.0.2 in c:\\users\\joseph.oleynik\\anaconda3\\lib\\site-packages (from spacy<4->fastai) (2.0.7)\n",
      "Requirement already satisfied: smart-open<7.0.0,>=5.2.1 in c:\\users\\joseph.oleynik\\anaconda3\\lib\\site-packages (from spacy<4->fastai) (6.3.0)\n",
      "Requirement already satisfied: pyparsing!=3.0.5,>=2.0.2 in c:\\users\\joseph.oleynik\\anaconda3\\lib\\site-packages (from packaging->fastai) (3.0.4)\n",
      "Requirement already satisfied: typing-extensions>=4.2.0 in c:\\users\\joseph.oleynik\\anaconda3\\lib\\site-packages (from pydantic!=1.8,!=1.8.1,<1.11.0,>=1.7.4->spacy<4->fastai) (4.5.0)\n",
      "Requirement already satisfied: idna<4,>=2.5 in c:\\users\\joseph.oleynik\\anaconda3\\lib\\site-packages (from requests->fastai) (3.3)\n",
      "Requirement already satisfied: urllib3<1.27,>=1.21.1 in c:\\users\\joseph.oleynik\\anaconda3\\lib\\site-packages (from requests->fastai) (1.26.9)\n",
      "Requirement already satisfied: certifi>=2017.4.17 in c:\\users\\joseph.oleynik\\anaconda3\\lib\\site-packages (from requests->fastai) (2021.10.8)\n",
      "Requirement already satisfied: charset-normalizer~=2.0.0 in c:\\users\\joseph.oleynik\\anaconda3\\lib\\site-packages (from requests->fastai) (2.0.4)\n",
      "Requirement already satisfied: confection<1.0.0,>=0.0.1 in c:\\users\\joseph.oleynik\\anaconda3\\lib\\site-packages (from thinc<8.2.0,>=8.1.0->spacy<4->fastai) (0.0.4)\n",
      "Requirement already satisfied: blis<0.8.0,>=0.7.8 in c:\\users\\joseph.oleynik\\anaconda3\\lib\\site-packages (from thinc<8.2.0,>=8.1.0->spacy<4->fastai) (0.7.9)\n",
      "Requirement already satisfied: colorama in c:\\users\\joseph.oleynik\\anaconda3\\lib\\site-packages (from tqdm<5.0.0,>=4.38.0->spacy<4->fastai) (0.4.6)\n",
      "Requirement already satisfied: click<9.0.0,>=7.1.1 in c:\\users\\joseph.oleynik\\anaconda3\\lib\\site-packages (from typer<0.8.0,>=0.3.0->spacy<4->fastai) (8.0.4)\n",
      "Requirement already satisfied: MarkupSafe>=0.23 in c:\\users\\joseph.oleynik\\anaconda3\\lib\\site-packages (from jinja2->spacy<4->fastai) (2.0.1)\n",
      "Requirement already satisfied: kiwisolver>=1.0.1 in c:\\users\\joseph.oleynik\\anaconda3\\lib\\site-packages (from matplotlib->fastai) (1.3.2)\n",
      "Requirement already satisfied: cycler>=0.10 in c:\\users\\joseph.oleynik\\anaconda3\\lib\\site-packages (from matplotlib->fastai) (0.11.0)\n",
      "Requirement already satisfied: python-dateutil>=2.7 in c:\\users\\joseph.oleynik\\anaconda3\\lib\\site-packages (from matplotlib->fastai) (2.8.2)\n",
      "Requirement already satisfied: fonttools>=4.22.0 in c:\\users\\joseph.oleynik\\anaconda3\\lib\\site-packages (from matplotlib->fastai) (4.25.0)\n",
      "Requirement already satisfied: six>=1.5 in c:\\users\\joseph.oleynik\\anaconda3\\lib\\site-packages (from python-dateutil>=2.7->matplotlib->fastai) (1.16.0)\n",
      "Requirement already satisfied: pytz>=2020.1 in c:\\users\\joseph.oleynik\\anaconda3\\lib\\site-packages (from pandas->fastai) (2021.3)\n",
      "Requirement already satisfied: threadpoolctl>=2.0.0 in c:\\users\\joseph.oleynik\\anaconda3\\lib\\site-packages (from scikit-learn->fastai) (2.2.0)\n",
      "Requirement already satisfied: joblib>=0.11 in c:\\users\\joseph.oleynik\\anaconda3\\lib\\site-packages (from scikit-learn->fastai) (1.1.0)\n"
     ]
    }
   ],
   "source": [
    "!pip install fastai"
   ]
  },
  {
   "cell_type": "code",
   "execution_count": 11,
   "id": "40b85c56",
   "metadata": {},
   "outputs": [],
   "source": [
    "from ipywidgets import interact\n",
    "from fastai.basics import *\n",
    "from functools import partial\n",
    "\n",
    "plt.rc('figure', dpi=90)\n",
    "\n",
    "def plot_function(f, title=None, min=-2.1, max=2.1, color='r', ylim=None):\n",
    "    x = torch.linspace(min,max, 100)[:,None]\n",
    "    if ylim: plt.ylim(ylim)\n",
    "    plt.plot(x, f(x), color)\n",
    "    if title is not None: plt.title(title)"
   ]
  },
  {
   "cell_type": "code",
   "execution_count": 61,
   "id": "95879b24",
   "metadata": {},
   "outputs": [
    {
     "data": {
      "image/png": "[encoded data removed]",
      "text/plain": [
       "<Figure size 540x360 with 1 Axes>"
      ]
     },
     "metadata": {
      "needs_background": "light"
     },
     "output_type": "display_data"
    }
   ],
   "source": [
    "def f(x): return 3*x**2+2*x+1\n",
    "#basic quadratic equation\n",
    "plot_function(f,\"$3x^2+2x+1$\")"
   ]
  },
  {
   "cell_type": "code",
   "execution_count": null,
   "id": "7c04f501",
   "metadata": {},
   "outputs": [],
   "source": []
  },
  {
   "cell_type": "code",
   "execution_count": 63,
   "id": "27635956",
   "metadata": {},
   "outputs": [],
   "source": [
    "def quad(a,b,c,x): \n",
    "    return a*x**2+b*x+c\n",
    "\n",
    "def mkquad(a,b,c): \n",
    "    return partial(quad,a,b,c)\n",
    "\n",
    "#making the variable quadratic and a partialwith the constants constant\n",
    "\n",
    "f = mkquad(3,2,1)"
   ]
  },
  {
   "cell_type": "code",
   "execution_count": null,
   "id": "bef2a0ce",
   "metadata": {},
   "outputs": [],
   "source": []
  },
  {
   "cell_type": "code",
   "execution_count": null,
   "id": "926cc069",
   "metadata": {},
   "outputs": [],
   "source": []
  },
  {
   "cell_type": "code",
   "execution_count": null,
   "id": "f8938bff",
   "metadata": {},
   "outputs": [],
   "source": []
  },
  {
   "cell_type": "code",
   "execution_count": 64,
   "id": "1491c8c2",
   "metadata": {},
   "outputs": [],
   "source": [
    "from numpy.random import normal, seed, uniform\n",
    "np.random.seed(42)"
   ]
  },
  {
   "cell_type": "code",
   "execution_count": null,
   "id": "b6d23dee",
   "metadata": {},
   "outputs": [],
   "source": []
  },
  {
   "cell_type": "code",
   "execution_count": 67,
   "id": "b7868d83",
   "metadata": {},
   "outputs": [
    {
     "data": {
      "image/png": "[encoded data removed]",
      "text/plain": [
       "<Figure size 540x360 with 1 Axes>"
      ]
     },
     "metadata": {
      "needs_background": "light"
     },
     "output_type": "display_data"
    }
   ],
   "source": [
    "def noise(x,scale): \n",
    "    return normal(scale = scale, size = x.shape)\n",
    "\n",
    "def add_noise(x,mult,add): \n",
    "    return x*(1+noise(x,mult))+noise(x,add)\n",
    "\n",
    "x = torch.linspace(-2,2,steps = 20)[:,None]\n",
    "y = add_noise(f(x),0.3,1.5)\n",
    "plt.scatter(x,y);\n",
    "\n",
    "#this is just creating our synth dataset using linspace, noice and scatter plotting it"
   ]
  },
  {
   "cell_type": "code",
   "execution_count": null,
   "id": "ff2ca2ed",
   "metadata": {},
   "outputs": [],
   "source": []
  },
  {
   "cell_type": "code",
   "execution_count": null,
   "id": "4a641569",
   "metadata": {},
   "outputs": [],
   "source": []
  },
  {
   "cell_type": "code",
   "execution_count": 68,
   "id": "9fd4aa3c",
   "metadata": {},
   "outputs": [],
   "source": [
    "from ipywidgets import interact"
   ]
  },
  {
   "cell_type": "code",
   "execution_count": null,
   "id": "7a15acea",
   "metadata": {},
   "outputs": [],
   "source": []
  },
  {
   "cell_type": "code",
   "execution_count": 37,
   "id": "142507be",
   "metadata": {},
   "outputs": [],
   "source": [
    "def mse(preds,acts): \n",
    "    return ((preds-acts)**2).mean()\n",
    "\n",
    "#loss function"
   ]
  },
  {
   "cell_type": "code",
   "execution_count": 69,
   "id": "8ea18e25",
   "metadata": {},
   "outputs": [
    {
     "data": {
      "application/vnd.jupyter.widget-view+json": {
       "model_id": "ef17afbf717446a7974119c95157b18c",
       "version_major": 2,
       "version_minor": 0
      },
      "text/plain": [
       "interactive(children=(FloatSlider(value=1.5, description='a', max=4.5, min=-1.5), FloatSlider(value=1.5, descr…"
      ]
     },
     "metadata": {},
     "output_type": "display_data"
    }
   ],
   "source": [
    "@interact(a =1.5,b = 1.5, c=1.5)\n",
    "def plot_quad(a,b,c):\n",
    "    f = mkquad(a,b,c)\n",
    "    plt.scatter(x,y)\n",
    "    loss = mse(f(x), y)\n",
    "    plot_function(mkquad(a,b,c),ylim = (-3,12), title = f\"MSE: {loss:.2f}\")\n",
    "\n",
    "#this is super intersting, an interactable version where we create a partial \n",
    "#quad and then plot our data and our formula and the mse"
   ]
  },
  {
   "cell_type": "code",
   "execution_count": 73,
   "id": "6fc76c62",
   "metadata": {},
   "outputs": [],
   "source": [
    "def quad_mse(params):\n",
    "    f = mkquad(*params)\n",
    "    return mse(f(x),y)\n",
    "\n",
    "#provides loss function for our formula and our dataset \n",
    "#the only variables here are our a,b,c variables"
   ]
  },
  {
   "cell_type": "code",
   "execution_count": null,
   "id": "21052d40",
   "metadata": {},
   "outputs": [],
   "source": []
  },
  {
   "cell_type": "code",
   "execution_count": 100,
   "id": "288537d7",
   "metadata": {},
   "outputs": [
    {
     "data": {
      "text/plain": [
       "tensor([1.5000, 1.5000, 1.5000], requires_grad=True)"
      ]
     },
     "execution_count": 100,
     "metadata": {},
     "output_type": "execute_result"
    }
   ],
   "source": [
    "abc = torch.tensor([1.5,1.5,1.5])\n",
    "abc.requires_grad_()\n",
    "\n",
    "#loss = quad_mse(abc)\n",
    "#loss.backward()\n",
    "#abc.grad\n",
    "\n",
    "#provides the diretivate of the loss function "
   ]
  },
  {
   "cell_type": "code",
   "execution_count": 101,
   "id": "6281a9eb",
   "metadata": {},
   "outputs": [
    {
     "data": {
      "text/plain": [
       "tensor(9.2842, dtype=torch.float64, grad_fn=<MeanBackward0>)"
      ]
     },
     "execution_count": 101,
     "metadata": {},
     "output_type": "execute_result"
    }
   ],
   "source": [
    "quad_mse(abc)"
   ]
  },
  {
   "cell_type": "code",
   "execution_count": 102,
   "id": "80aedef4",
   "metadata": {},
   "outputs": [
    {
     "name": "stdout",
     "output_type": "stream",
     "text": [
      "loss = 9.28\n",
      "loss = 8.27\n",
      "loss = 6.60\n",
      "loss = 4.84\n",
      "loss = 3.58\n"
     ]
    }
   ],
   "source": [
    "for i in range(5): \n",
    "    loss = quad_mse(abc)\n",
    "    loss.backward()\n",
    "    with torch.no_grad(): \n",
    "        abc -= abc.grad*0.01\n",
    "    print(f'loss = {loss:.2f}')"
   ]
  },
  {
   "cell_type": "code",
   "execution_count": 104,
   "id": "f4fb5371",
   "metadata": {},
   "outputs": [
    {
     "data": {
      "text/plain": [
       "tensor(3.2560, dtype=torch.float64, grad_fn=<MeanBackward0>)"
      ]
     },
     "execution_count": 104,
     "metadata": {},
     "output_type": "execute_result"
    }
   ],
   "source": [
    "quad_mse(abc)"
   ]
  },
  {
   "cell_type": "code",
   "execution_count": null,
   "id": "2eac0c6f",
   "metadata": {},
   "outputs": [],
   "source": []
  },
  {
   "cell_type": "code",
   "execution_count": null,
   "id": "50879f42",
   "metadata": {},
   "outputs": [],
   "source": []
  }
 ],
 "metadata": {
  "kernelspec": {
   "display_name": "Python 3 (ipykernel)",
   "language": "python",
   "name": "python3"
  },
  "language_info": {
   "codemirror_mode": {
    "name": "ipython",
    "version": 3
   },
   "file_extension": ".py",
   "mimetype": "text/x-python",
   "name": "python",
   "nbconvert_exporter": "python",
   "pygments_lexer": "ipython3",
   "version": "3.9.12"
  }
 },
 "nbformat": 4,
 "nbformat_minor": 5
}
