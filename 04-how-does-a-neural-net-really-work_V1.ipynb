{
  "metadata": {
    "kernelspec": {
      "language": "python",
      "display_name": "Python 3",
      "name": "python3"
    },
    "language_info": {
      "pygments_lexer": "ipython3",
      "nbconvert_exporter": "python",
      "version": "3.6.4",
      "file_extension": ".py",
      "codemirror_mode": {
        "name": "ipython",
        "version": 3
      },
      "name": "python",
      "mimetype": "text/x-python"
    },
    "colab": {
      "provenance": []
    },
    "widgets": {
      "application/vnd.jupyter.widget-state+json": {
        "ce453e67267a48439fc4bad91c029887": {
          "model_module": "@jupyter-widgets/controls",
          "model_name": "VBoxModel",
          "model_module_version": "1.5.0",
          "state": {
            "_dom_classes": [
              "widget-interact"
            ],
            "_model_module": "@jupyter-widgets/controls",
            "_model_module_version": "1.5.0",
            "_model_name": "VBoxModel",
            "_view_count": null,
            "_view_module": "@jupyter-widgets/controls",
            "_view_module_version": "1.5.0",
            "_view_name": "VBoxView",
            "box_style": "",
            "children": [
              "IPY_MODEL_44c633fb7b744dae91a1b4b75e2e19fd",
              "IPY_MODEL_bf5a4d96cfc14b7e9736d130adaa08ea",
              "IPY_MODEL_e78decd83b0347f6b57cd23fd2f9f0e4",
              "IPY_MODEL_0fccbc5473a945968ad352d98a79369d"
            ],
            "layout": "IPY_MODEL_74ba5bc7ccca4f09b46a30785e6b522c"
          }
        },
        "44c633fb7b744dae91a1b4b75e2e19fd": {
          "model_module": "@jupyter-widgets/controls",
          "model_name": "FloatSliderModel",
          "model_module_version": "1.5.0",
          "state": {
            "_dom_classes": [],
            "_model_module": "@jupyter-widgets/controls",
            "_model_module_version": "1.5.0",
            "_model_name": "FloatSliderModel",
            "_view_count": null,
            "_view_module": "@jupyter-widgets/controls",
            "_view_module_version": "1.5.0",
            "_view_name": "FloatSliderView",
            "continuous_update": true,
            "description": "a",
            "description_tooltip": null,
            "disabled": false,
            "layout": "IPY_MODEL_b77e47c7090a44a89c398ef20e6d1aad",
            "max": 3.3000000000000003,
            "min": -1.1,
            "orientation": "horizontal",
            "readout": true,
            "readout_format": ".2f",
            "step": 0.1,
            "style": "IPY_MODEL_1aa9a40d112641c4862568fbb247647f",
            "value": 1.1
          }
        },
        "bf5a4d96cfc14b7e9736d130adaa08ea": {
          "model_module": "@jupyter-widgets/controls",
          "model_name": "FloatSliderModel",
          "model_module_version": "1.5.0",
          "state": {
            "_dom_classes": [],
            "_model_module": "@jupyter-widgets/controls",
            "_model_module_version": "1.5.0",
            "_model_name": "FloatSliderModel",
            "_view_count": null,
            "_view_module": "@jupyter-widgets/controls",
            "_view_module_version": "1.5.0",
            "_view_name": "FloatSliderView",
            "continuous_update": true,
            "description": "b",
            "description_tooltip": null,
            "disabled": false,
            "layout": "IPY_MODEL_b542513127a9464dab2282d20960e250",
            "max": 3.3000000000000003,
            "min": -1.1,
            "orientation": "horizontal",
            "readout": true,
            "readout_format": ".2f",
            "step": 0.1,
            "style": "IPY_MODEL_7aaf38af67c8497b9c05cfaf9013ce08",
            "value": 1.1
          }
        },
        "e78decd83b0347f6b57cd23fd2f9f0e4": {
          "model_module": "@jupyter-widgets/controls",
          "model_name": "FloatSliderModel",
          "model_module_version": "1.5.0",
          "state": {
            "_dom_classes": [],
            "_model_module": "@jupyter-widgets/controls",
            "_model_module_version": "1.5.0",
            "_model_name": "FloatSliderModel",
            "_view_count": null,
            "_view_module": "@jupyter-widgets/controls",
            "_view_module_version": "1.5.0",
            "_view_name": "FloatSliderView",
            "continuous_update": true,
            "description": "c",
            "description_tooltip": null,
            "disabled": false,
            "layout": "IPY_MODEL_b7c8f9e4de784c3da4a8c4b34b32d7cc",
            "max": 3.3000000000000003,
            "min": -1.1,
            "orientation": "horizontal",
            "readout": true,
            "readout_format": ".2f",
            "step": 0.1,
            "style": "IPY_MODEL_6d1157da94d046da885a0a4a0658db88",
            "value": 1.1
          }
        },
        "0fccbc5473a945968ad352d98a79369d": {
          "model_module": "@jupyter-widgets/output",
          "model_name": "OutputModel",
          "model_module_version": "1.0.0",
          "state": {
            "_dom_classes": [],
            "_model_module": "@jupyter-widgets/output",
            "_model_module_version": "1.0.0",
            "_model_name": "OutputModel",
            "_view_count": null,
            "_view_module": "@jupyter-widgets/output",
            "_view_module_version": "1.0.0",
            "_view_name": "OutputView",
            "layout": "IPY_MODEL_8b9f42216a3843b1bdb9f6dc1bcb4754",
            "msg_id": "",
            "outputs": [
              {
                "output_type": "display_data",
                "data": {
                  "text/plain": "<Figure size 540x360 with 1 Axes>",
                  "image/png": "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\n"
                },
                "metadata": {
                  "needs_background": "light"
                }
              }
            ]
          }
        },
        "74ba5bc7ccca4f09b46a30785e6b522c": {
          "model_module": "@jupyter-widgets/base",
          "model_name": "LayoutModel",
          "model_module_version": "1.2.0",
          "state": {
            "_model_module": "@jupyter-widgets/base",
            "_model_module_version": "1.2.0",
            "_model_name": "LayoutModel",
            "_view_count": null,
            "_view_module": "@jupyter-widgets/base",
            "_view_module_version": "1.2.0",
            "_view_name": "LayoutView",
            "align_content": null,
            "align_items": null,
            "align_self": null,
            "border": null,
            "bottom": null,
            "display": null,
            "flex": null,
            "flex_flow": null,
            "grid_area": null,
            "grid_auto_columns": null,
            "grid_auto_flow": null,
            "grid_auto_rows": null,
            "grid_column": null,
            "grid_gap": null,
            "grid_row": null,
            "grid_template_areas": null,
            "grid_template_columns": null,
            "grid_template_rows": null,
            "height": null,
            "justify_content": null,
            "justify_items": null,
            "left": null,
            "margin": null,
            "max_height": null,
            "max_width": null,
            "min_height": null,
            "min_width": null,
            "object_fit": null,
            "object_position": null,
            "order": null,
            "overflow": null,
            "overflow_x": null,
            "overflow_y": null,
            "padding": null,
            "right": null,
            "top": null,
            "visibility": null,
            "width": null
          }
        },
        "b77e47c7090a44a89c398ef20e6d1aad": {
          "model_module": "@jupyter-widgets/base",
          "model_name": "LayoutModel",
          "model_module_version": "1.2.0",
          "state": {
            "_model_module": "@jupyter-widgets/base",
            "_model_module_version": "1.2.0",
            "_model_name": "LayoutModel",
            "_view_count": null,
            "_view_module": "@jupyter-widgets/base",
            "_view_module_version": "1.2.0",
            "_view_name": "LayoutView",
            "align_content": null,
            "align_items": null,
            "align_self": null,
            "border": null,
            "bottom": null,
            "display": null,
            "flex": null,
            "flex_flow": null,
            "grid_area": null,
            "grid_auto_columns": null,
            "grid_auto_flow": null,
            "grid_auto_rows": null,
            "grid_column": null,
            "grid_gap": null,
            "grid_row": null,
            "grid_template_areas": null,
            "grid_template_columns": null,
            "grid_template_rows": null,
            "height": null,
            "justify_content": null,
            "justify_items": null,
            "left": null,
            "margin": null,
            "max_height": null,
            "max_width": null,
            "min_height": null,
            "min_width": null,
            "object_fit": null,
            "object_position": null,
            "order": null,
            "overflow": null,
            "overflow_x": null,
            "overflow_y": null,
            "padding": null,
            "right": null,
            "top": null,
            "visibility": null,
            "width": null
          }
        },
        "1aa9a40d112641c4862568fbb247647f": {
          "model_module": "@jupyter-widgets/controls",
          "model_name": "SliderStyleModel",
          "model_module_version": "1.5.0",
          "state": {
            "_model_module": "@jupyter-widgets/controls",
            "_model_module_version": "1.5.0",
            "_model_name": "SliderStyleModel",
            "_view_count": null,
            "_view_module": "@jupyter-widgets/base",
            "_view_module_version": "1.2.0",
            "_view_name": "StyleView",
            "description_width": "",
            "handle_color": null
          }
        },
        "b542513127a9464dab2282d20960e250": {
          "model_module": "@jupyter-widgets/base",
          "model_name": "LayoutModel",
          "model_module_version": "1.2.0",
          "state": {
            "_model_module": "@jupyter-widgets/base",
            "_model_module_version": "1.2.0",
            "_model_name": "LayoutModel",
            "_view_count": null,
            "_view_module": "@jupyter-widgets/base",
            "_view_module_version": "1.2.0",
            "_view_name": "LayoutView",
            "align_content": null,
            "align_items": null,
            "align_self": null,
            "border": null,
            "bottom": null,
            "display": null,
            "flex": null,
            "flex_flow": null,
            "grid_area": null,
            "grid_auto_columns": null,
            "grid_auto_flow": null,
            "grid_auto_rows": null,
            "grid_column": null,
            "grid_gap": null,
            "grid_row": null,
            "grid_template_areas": null,
            "grid_template_columns": null,
            "grid_template_rows": null,
            "height": null,
            "justify_content": null,
            "justify_items": null,
            "left": null,
            "margin": null,
            "max_height": null,
            "max_width": null,
            "min_height": null,
            "min_width": null,
            "object_fit": null,
            "object_position": null,
            "order": null,
            "overflow": null,
            "overflow_x": null,
            "overflow_y": null,
            "padding": null,
            "right": null,
            "top": null,
            "visibility": null,
            "width": null
          }
        },
        "7aaf38af67c8497b9c05cfaf9013ce08": {
          "model_module": "@jupyter-widgets/controls",
          "model_name": "SliderStyleModel",
          "model_module_version": "1.5.0",
          "state": {
            "_model_module": "@jupyter-widgets/controls",
            "_model_module_version": "1.5.0",
            "_model_name": "SliderStyleModel",
            "_view_count": null,
            "_view_module": "@jupyter-widgets/base",
            "_view_module_version": "1.2.0",
            "_view_name": "StyleView",
            "description_width": "",
            "handle_color": null
          }
        },
        "b7c8f9e4de784c3da4a8c4b34b32d7cc": {
          "model_module": "@jupyter-widgets/base",
          "model_name": "LayoutModel",
          "model_module_version": "1.2.0",
          "state": {
            "_model_module": "@jupyter-widgets/base",
            "_model_module_version": "1.2.0",
            "_model_name": "LayoutModel",
            "_view_count": null,
            "_view_module": "@jupyter-widgets/base",
            "_view_module_version": "1.2.0",
            "_view_name": "LayoutView",
            "align_content": null,
            "align_items": null,
            "align_self": null,
            "border": null,
            "bottom": null,
            "display": null,
            "flex": null,
            "flex_flow": null,
            "grid_area": null,
            "grid_auto_columns": null,
            "grid_auto_flow": null,
            "grid_auto_rows": null,
            "grid_column": null,
            "grid_gap": null,
            "grid_row": null,
            "grid_template_areas": null,
            "grid_template_columns": null,
            "grid_template_rows": null,
            "height": null,
            "justify_content": null,
            "justify_items": null,
            "left": null,
            "margin": null,
            "max_height": null,
            "max_width": null,
            "min_height": null,
            "min_width": null,
            "object_fit": null,
            "object_position": null,
            "order": null,
            "overflow": null,
            "overflow_x": null,
            "overflow_y": null,
            "padding": null,
            "right": null,
            "top": null,
            "visibility": null,
            "width": null
          }
        },
        "6d1157da94d046da885a0a4a0658db88": {
          "model_module": "@jupyter-widgets/controls",
          "model_name": "SliderStyleModel",
          "model_module_version": "1.5.0",
          "state": {
            "_model_module": "@jupyter-widgets/controls",
            "_model_module_version": "1.5.0",
            "_model_name": "SliderStyleModel",
            "_view_count": null,
            "_view_module": "@jupyter-widgets/base",
            "_view_module_version": "1.2.0",
            "_view_name": "StyleView",
            "description_width": "",
            "handle_color": null
          }
        },
        "8b9f42216a3843b1bdb9f6dc1bcb4754": {
          "model_module": "@jupyter-widgets/base",
          "model_name": "LayoutModel",
          "model_module_version": "1.2.0",
          "state": {
            "_model_module": "@jupyter-widgets/base",
            "_model_module_version": "1.2.0",
            "_model_name": "LayoutModel",
            "_view_count": null,
            "_view_module": "@jupyter-widgets/base",
            "_view_module_version": "1.2.0",
            "_view_name": "LayoutView",
            "align_content": null,
            "align_items": null,
            "align_self": null,
            "border": null,
            "bottom": null,
            "display": null,
            "flex": null,
            "flex_flow": null,
            "grid_area": null,
            "grid_auto_columns": null,
            "grid_auto_flow": null,
            "grid_auto_rows": null,
            "grid_column": null,
            "grid_gap": null,
            "grid_row": null,
            "grid_template_areas": null,
            "grid_template_columns": null,
            "grid_template_rows": null,
            "height": null,
            "justify_content": null,
            "justify_items": null,
            "left": null,
            "margin": null,
            "max_height": null,
            "max_width": null,
            "min_height": null,
            "min_width": null,
            "object_fit": null,
            "object_position": null,
            "order": null,
            "overflow": null,
            "overflow_x": null,
            "overflow_y": null,
            "padding": null,
            "right": null,
            "top": null,
            "visibility": null,
            "width": null
          }
        },
        "cfc7de024dbf44b982c11a3146a8401a": {
          "model_module": "@jupyter-widgets/controls",
          "model_name": "VBoxModel",
          "model_module_version": "1.5.0",
          "state": {
            "_dom_classes": [
              "widget-interact"
            ],
            "_model_module": "@jupyter-widgets/controls",
            "_model_module_version": "1.5.0",
            "_model_name": "VBoxModel",
            "_view_count": null,
            "_view_module": "@jupyter-widgets/controls",
            "_view_module_version": "1.5.0",
            "_view_name": "VBoxView",
            "box_style": "",
            "children": [
              "IPY_MODEL_990e535fd5804dd8b693df58f16925e4",
              "IPY_MODEL_118555bc896a4ba4be5fe1d21dc2358e",
              "IPY_MODEL_a26c741bc0ee45a387be6cb05e140cf6",
              "IPY_MODEL_7623edbb65f14dfb829314c3b932a453"
            ],
            "layout": "IPY_MODEL_28c20458132a40a7bc48b6dc86f168e8"
          }
        },
        "990e535fd5804dd8b693df58f16925e4": {
          "model_module": "@jupyter-widgets/controls",
          "model_name": "FloatSliderModel",
          "model_module_version": "1.5.0",
          "state": {
            "_dom_classes": [],
            "_model_module": "@jupyter-widgets/controls",
            "_model_module_version": "1.5.0",
            "_model_name": "FloatSliderModel",
            "_view_count": null,
            "_view_module": "@jupyter-widgets/controls",
            "_view_module_version": "1.5.0",
            "_view_name": "FloatSliderView",
            "continuous_update": true,
            "description": "a",
            "description_tooltip": null,
            "disabled": false,
            "layout": "IPY_MODEL_9216ea5a50cc43d593b4debe56c7f30a",
            "max": 3.3000000000000003,
            "min": -1.1,
            "orientation": "horizontal",
            "readout": true,
            "readout_format": ".2f",
            "step": 0.1,
            "style": "IPY_MODEL_90083e03f96841aea454a9a8a1eb79e6",
            "value": 1.1
          }
        },
        "118555bc896a4ba4be5fe1d21dc2358e": {
          "model_module": "@jupyter-widgets/controls",
          "model_name": "FloatSliderModel",
          "model_module_version": "1.5.0",
          "state": {
            "_dom_classes": [],
            "_model_module": "@jupyter-widgets/controls",
            "_model_module_version": "1.5.0",
            "_model_name": "FloatSliderModel",
            "_view_count": null,
            "_view_module": "@jupyter-widgets/controls",
            "_view_module_version": "1.5.0",
            "_view_name": "FloatSliderView",
            "continuous_update": true,
            "description": "b",
            "description_tooltip": null,
            "disabled": false,
            "layout": "IPY_MODEL_b70741b37b794185aad2fd41912befa9",
            "max": 3.3000000000000003,
            "min": -1.1,
            "orientation": "horizontal",
            "readout": true,
            "readout_format": ".2f",
            "step": 0.1,
            "style": "IPY_MODEL_d0c9a05fc76c4ff8832785dd9b7f50e5",
            "value": 1.1
          }
        },
        "a26c741bc0ee45a387be6cb05e140cf6": {
          "model_module": "@jupyter-widgets/controls",
          "model_name": "FloatSliderModel",
          "model_module_version": "1.5.0",
          "state": {
            "_dom_classes": [],
            "_model_module": "@jupyter-widgets/controls",
            "_model_module_version": "1.5.0",
            "_model_name": "FloatSliderModel",
            "_view_count": null,
            "_view_module": "@jupyter-widgets/controls",
            "_view_module_version": "1.5.0",
            "_view_name": "FloatSliderView",
            "continuous_update": true,
            "description": "c",
            "description_tooltip": null,
            "disabled": false,
            "layout": "IPY_MODEL_238a98cf1c784a1487633306de52181d",
            "max": 3.3000000000000003,
            "min": -1.1,
            "orientation": "horizontal",
            "readout": true,
            "readout_format": ".2f",
            "step": 0.1,
            "style": "IPY_MODEL_8008d934c96241b1b7efb4442ee1425d",
            "value": 1.1
          }
        },
        "7623edbb65f14dfb829314c3b932a453": {
          "model_module": "@jupyter-widgets/output",
          "model_name": "OutputModel",
          "model_module_version": "1.0.0",
          "state": {
            "_dom_classes": [],
            "_model_module": "@jupyter-widgets/output",
            "_model_module_version": "1.0.0",
            "_model_name": "OutputModel",
            "_view_count": null,
            "_view_module": "@jupyter-widgets/output",
            "_view_module_version": "1.0.0",
            "_view_name": "OutputView",
            "layout": "IPY_MODEL_256cf9cee2c940aba9e6adf1fd0fcdaf",
            "msg_id": "",
            "outputs": [
              {
                "output_type": "display_data",
                "data": {
                  "text/plain": "<Figure size 540x360 with 1 Axes>",
                  "image/png": "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\n"
                },
                "metadata": {
                  "needs_background": "light"
                }
              }
            ]
          }
        },
        "28c20458132a40a7bc48b6dc86f168e8": {
          "model_module": "@jupyter-widgets/base",
          "model_name": "LayoutModel",
          "model_module_version": "1.2.0",
          "state": {
            "_model_module": "@jupyter-widgets/base",
            "_model_module_version": "1.2.0",
            "_model_name": "LayoutModel",
            "_view_count": null,
            "_view_module": "@jupyter-widgets/base",
            "_view_module_version": "1.2.0",
            "_view_name": "LayoutView",
            "align_content": null,
            "align_items": null,
            "align_self": null,
            "border": null,
            "bottom": null,
            "display": null,
            "flex": null,
            "flex_flow": null,
            "grid_area": null,
            "grid_auto_columns": null,
            "grid_auto_flow": null,
            "grid_auto_rows": null,
            "grid_column": null,
            "grid_gap": null,
            "grid_row": null,
            "grid_template_areas": null,
            "grid_template_columns": null,
            "grid_template_rows": null,
            "height": null,
            "justify_content": null,
            "justify_items": null,
            "left": null,
            "margin": null,
            "max_height": null,
            "max_width": null,
            "min_height": null,
            "min_width": null,
            "object_fit": null,
            "object_position": null,
            "order": null,
            "overflow": null,
            "overflow_x": null,
            "overflow_y": null,
            "padding": null,
            "right": null,
            "top": null,
            "visibility": null,
            "width": null
          }
        },
        "9216ea5a50cc43d593b4debe56c7f30a": {
          "model_module": "@jupyter-widgets/base",
          "model_name": "LayoutModel",
          "model_module_version": "1.2.0",
          "state": {
            "_model_module": "@jupyter-widgets/base",
            "_model_module_version": "1.2.0",
            "_model_name": "LayoutModel",
            "_view_count": null,
            "_view_module": "@jupyter-widgets/base",
            "_view_module_version": "1.2.0",
            "_view_name": "LayoutView",
            "align_content": null,
            "align_items": null,
            "align_self": null,
            "border": null,
            "bottom": null,
            "display": null,
            "flex": null,
            "flex_flow": null,
            "grid_area": null,
            "grid_auto_columns": null,
            "grid_auto_flow": null,
            "grid_auto_rows": null,
            "grid_column": null,
            "grid_gap": null,
            "grid_row": null,
            "grid_template_areas": null,
            "grid_template_columns": null,
            "grid_template_rows": null,
            "height": null,
            "justify_content": null,
            "justify_items": null,
            "left": null,
            "margin": null,
            "max_height": null,
            "max_width": null,
            "min_height": null,
            "min_width": null,
            "object_fit": null,
            "object_position": null,
            "order": null,
            "overflow": null,
            "overflow_x": null,
            "overflow_y": null,
            "padding": null,
            "right": null,
            "top": null,
            "visibility": null,
            "width": null
          }
        },
        "90083e03f96841aea454a9a8a1eb79e6": {
          "model_module": "@jupyter-widgets/controls",
          "model_name": "SliderStyleModel",
          "model_module_version": "1.5.0",
          "state": {
            "_model_module": "@jupyter-widgets/controls",
            "_model_module_version": "1.5.0",
            "_model_name": "SliderStyleModel",
            "_view_count": null,
            "_view_module": "@jupyter-widgets/base",
            "_view_module_version": "1.2.0",
            "_view_name": "StyleView",
            "description_width": "",
            "handle_color": null
          }
        },
        "b70741b37b794185aad2fd41912befa9": {
          "model_module": "@jupyter-widgets/base",
          "model_name": "LayoutModel",
          "model_module_version": "1.2.0",
          "state": {
            "_model_module": "@jupyter-widgets/base",
            "_model_module_version": "1.2.0",
            "_model_name": "LayoutModel",
            "_view_count": null,
            "_view_module": "@jupyter-widgets/base",
            "_view_module_version": "1.2.0",
            "_view_name": "LayoutView",
            "align_content": null,
            "align_items": null,
            "align_self": null,
            "border": null,
            "bottom": null,
            "display": null,
            "flex": null,
            "flex_flow": null,
            "grid_area": null,
            "grid_auto_columns": null,
            "grid_auto_flow": null,
            "grid_auto_rows": null,
            "grid_column": null,
            "grid_gap": null,
            "grid_row": null,
            "grid_template_areas": null,
            "grid_template_columns": null,
            "grid_template_rows": null,
            "height": null,
            "justify_content": null,
            "justify_items": null,
            "left": null,
            "margin": null,
            "max_height": null,
            "max_width": null,
            "min_height": null,
            "min_width": null,
            "object_fit": null,
            "object_position": null,
            "order": null,
            "overflow": null,
            "overflow_x": null,
            "overflow_y": null,
            "padding": null,
            "right": null,
            "top": null,
            "visibility": null,
            "width": null
          }
        },
        "d0c9a05fc76c4ff8832785dd9b7f50e5": {
          "model_module": "@jupyter-widgets/controls",
          "model_name": "SliderStyleModel",
          "model_module_version": "1.5.0",
          "state": {
            "_model_module": "@jupyter-widgets/controls",
            "_model_module_version": "1.5.0",
            "_model_name": "SliderStyleModel",
            "_view_count": null,
            "_view_module": "@jupyter-widgets/base",
            "_view_module_version": "1.2.0",
            "_view_name": "StyleView",
            "description_width": "",
            "handle_color": null
          }
        },
        "238a98cf1c784a1487633306de52181d": {
          "model_module": "@jupyter-widgets/base",
          "model_name": "LayoutModel",
          "model_module_version": "1.2.0",
          "state": {
            "_model_module": "@jupyter-widgets/base",
            "_model_module_version": "1.2.0",
            "_model_name": "LayoutModel",
            "_view_count": null,
            "_view_module": "@jupyter-widgets/base",
            "_view_module_version": "1.2.0",
            "_view_name": "LayoutView",
            "align_content": null,
            "align_items": null,
            "align_self": null,
            "border": null,
            "bottom": null,
            "display": null,
            "flex": null,
            "flex_flow": null,
            "grid_area": null,
            "grid_auto_columns": null,
            "grid_auto_flow": null,
            "grid_auto_rows": null,
            "grid_column": null,
            "grid_gap": null,
            "grid_row": null,
            "grid_template_areas": null,
            "grid_template_columns": null,
            "grid_template_rows": null,
            "height": null,
            "justify_content": null,
            "justify_items": null,
            "left": null,
            "margin": null,
            "max_height": null,
            "max_width": null,
            "min_height": null,
            "min_width": null,
            "object_fit": null,
            "object_position": null,
            "order": null,
            "overflow": null,
            "overflow_x": null,
            "overflow_y": null,
            "padding": null,
            "right": null,
            "top": null,
            "visibility": null,
            "width": null
          }
        },
        "8008d934c96241b1b7efb4442ee1425d": {
          "model_module": "@jupyter-widgets/controls",
          "model_name": "SliderStyleModel",
          "model_module_version": "1.5.0",
          "state": {
            "_model_module": "@jupyter-widgets/controls",
            "_model_module_version": "1.5.0",
            "_model_name": "SliderStyleModel",
            "_view_count": null,
            "_view_module": "@jupyter-widgets/base",
            "_view_module_version": "1.2.0",
            "_view_name": "StyleView",
            "description_width": "",
            "handle_color": null
          }
        },
        "256cf9cee2c940aba9e6adf1fd0fcdaf": {
          "model_module": "@jupyter-widgets/base",
          "model_name": "LayoutModel",
          "model_module_version": "1.2.0",
          "state": {
            "_model_module": "@jupyter-widgets/base",
            "_model_module_version": "1.2.0",
            "_model_name": "LayoutModel",
            "_view_count": null,
            "_view_module": "@jupyter-widgets/base",
            "_view_module_version": "1.2.0",
            "_view_name": "LayoutView",
            "align_content": null,
            "align_items": null,
            "align_self": null,
            "border": null,
            "bottom": null,
            "display": null,
            "flex": null,
            "flex_flow": null,
            "grid_area": null,
            "grid_auto_columns": null,
            "grid_auto_flow": null,
            "grid_auto_rows": null,
            "grid_column": null,
            "grid_gap": null,
            "grid_row": null,
            "grid_template_areas": null,
            "grid_template_columns": null,
            "grid_template_rows": null,
            "height": null,
            "justify_content": null,
            "justify_items": null,
            "left": null,
            "margin": null,
            "max_height": null,
            "max_width": null,
            "min_height": null,
            "min_width": null,
            "object_fit": null,
            "object_position": null,
            "order": null,
            "overflow": null,
            "overflow_x": null,
            "overflow_y": null,
            "padding": null,
            "right": null,
            "top": null,
            "visibility": null,
            "width": null
          }
        },
        "bb0e62a001ae4dd8a4f6b7ffb26c561b": {
          "model_module": "@jupyter-widgets/controls",
          "model_name": "VBoxModel",
          "model_module_version": "1.5.0",
          "state": {
            "_dom_classes": [
              "widget-interact"
            ],
            "_model_module": "@jupyter-widgets/controls",
            "_model_module_version": "1.5.0",
            "_model_name": "VBoxModel",
            "_view_count": null,
            "_view_module": "@jupyter-widgets/controls",
            "_view_module_version": "1.5.0",
            "_view_name": "VBoxView",
            "box_style": "",
            "children": [
              "IPY_MODEL_7d67b780c5fb427f833c20a4d65a3ddc",
              "IPY_MODEL_0f04e4190047401790fa333b7588c522",
              "IPY_MODEL_856e139081f348c5a0697dee60d99fb8"
            ],
            "layout": "IPY_MODEL_f3615ddfae464400a481f57c6960cde2"
          }
        },
        "7d67b780c5fb427f833c20a4d65a3ddc": {
          "model_module": "@jupyter-widgets/controls",
          "model_name": "FloatSliderModel",
          "model_module_version": "1.5.0",
          "state": {
            "_dom_classes": [],
            "_model_module": "@jupyter-widgets/controls",
            "_model_module_version": "1.5.0",
            "_model_name": "FloatSliderModel",
            "_view_count": null,
            "_view_module": "@jupyter-widgets/controls",
            "_view_module_version": "1.5.0",
            "_view_name": "FloatSliderView",
            "continuous_update": true,
            "description": "m",
            "description_tooltip": null,
            "disabled": false,
            "layout": "IPY_MODEL_e0299bf39e354fb29b8ff60b27724c4f",
            "max": 4.5,
            "min": -1.5,
            "orientation": "horizontal",
            "readout": true,
            "readout_format": ".2f",
            "step": 0.1,
            "style": "IPY_MODEL_c6430f9c82b142bd990d2aeac03c1c2e",
            "value": 1
          }
        },
        "0f04e4190047401790fa333b7588c522": {
          "model_module": "@jupyter-widgets/controls",
          "model_name": "FloatSliderModel",
          "model_module_version": "1.5.0",
          "state": {
            "_dom_classes": [],
            "_model_module": "@jupyter-widgets/controls",
            "_model_module_version": "1.5.0",
            "_model_name": "FloatSliderModel",
            "_view_count": null,
            "_view_module": "@jupyter-widgets/controls",
            "_view_module_version": "1.5.0",
            "_view_name": "FloatSliderView",
            "continuous_update": true,
            "description": "b",
            "description_tooltip": null,
            "disabled": false,
            "layout": "IPY_MODEL_6feb0fd95aa141dfa9cb33dcdc01ef12",
            "max": 4.5,
            "min": -1.5,
            "orientation": "horizontal",
            "readout": true,
            "readout_format": ".2f",
            "step": 0.1,
            "style": "IPY_MODEL_cde8de474bd84b2d88fe4eaa61fb94c4",
            "value": 0.6
          }
        },
        "856e139081f348c5a0697dee60d99fb8": {
          "model_module": "@jupyter-widgets/output",
          "model_name": "OutputModel",
          "model_module_version": "1.0.0",
          "state": {
            "_dom_classes": [],
            "_model_module": "@jupyter-widgets/output",
            "_model_module_version": "1.0.0",
            "_model_name": "OutputModel",
            "_view_count": null,
            "_view_module": "@jupyter-widgets/output",
            "_view_module_version": "1.0.0",
            "_view_name": "OutputView",
            "layout": "IPY_MODEL_60c3e215d9c845c89d2f24044c66e00d",
            "msg_id": "",
            "outputs": [
              {
                "output_type": "display_data",
                "data": {
                  "text/plain": "<Figure size 540x360 with 1 Axes>",
                  "image/png": "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\n"
                },
                "metadata": {
                  "needs_background": "light"
                }
              }
            ]
          }
        },
        "f3615ddfae464400a481f57c6960cde2": {
          "model_module": "@jupyter-widgets/base",
          "model_name": "LayoutModel",
          "model_module_version": "1.2.0",
          "state": {
            "_model_module": "@jupyter-widgets/base",
            "_model_module_version": "1.2.0",
            "_model_name": "LayoutModel",
            "_view_count": null,
            "_view_module": "@jupyter-widgets/base",
            "_view_module_version": "1.2.0",
            "_view_name": "LayoutView",
            "align_content": null,
            "align_items": null,
            "align_self": null,
            "border": null,
            "bottom": null,
            "display": null,
            "flex": null,
            "flex_flow": null,
            "grid_area": null,
            "grid_auto_columns": null,
            "grid_auto_flow": null,
            "grid_auto_rows": null,
            "grid_column": null,
            "grid_gap": null,
            "grid_row": null,
            "grid_template_areas": null,
            "grid_template_columns": null,
            "grid_template_rows": null,
            "height": null,
            "justify_content": null,
            "justify_items": null,
            "left": null,
            "margin": null,
            "max_height": null,
            "max_width": null,
            "min_height": null,
            "min_width": null,
            "object_fit": null,
            "object_position": null,
            "order": null,
            "overflow": null,
            "overflow_x": null,
            "overflow_y": null,
            "padding": null,
            "right": null,
            "top": null,
            "visibility": null,
            "width": null
          }
        },
        "e0299bf39e354fb29b8ff60b27724c4f": {
          "model_module": "@jupyter-widgets/base",
          "model_name": "LayoutModel",
          "model_module_version": "1.2.0",
          "state": {
            "_model_module": "@jupyter-widgets/base",
            "_model_module_version": "1.2.0",
            "_model_name": "LayoutModel",
            "_view_count": null,
            "_view_module": "@jupyter-widgets/base",
            "_view_module_version": "1.2.0",
            "_view_name": "LayoutView",
            "align_content": null,
            "align_items": null,
            "align_self": null,
            "border": null,
            "bottom": null,
            "display": null,
            "flex": null,
            "flex_flow": null,
            "grid_area": null,
            "grid_auto_columns": null,
            "grid_auto_flow": null,
            "grid_auto_rows": null,
            "grid_column": null,
            "grid_gap": null,
            "grid_row": null,
            "grid_template_areas": null,
            "grid_template_columns": null,
            "grid_template_rows": null,
            "height": null,
            "justify_content": null,
            "justify_items": null,
            "left": null,
            "margin": null,
            "max_height": null,
            "max_width": null,
            "min_height": null,
            "min_width": null,
            "object_fit": null,
            "object_position": null,
            "order": null,
            "overflow": null,
            "overflow_x": null,
            "overflow_y": null,
            "padding": null,
            "right": null,
            "top": null,
            "visibility": null,
            "width": null
          }
        },
        "c6430f9c82b142bd990d2aeac03c1c2e": {
          "model_module": "@jupyter-widgets/controls",
          "model_name": "SliderStyleModel",
          "model_module_version": "1.5.0",
          "state": {
            "_model_module": "@jupyter-widgets/controls",
            "_model_module_version": "1.5.0",
            "_model_name": "SliderStyleModel",
            "_view_count": null,
            "_view_module": "@jupyter-widgets/base",
            "_view_module_version": "1.2.0",
            "_view_name": "StyleView",
            "description_width": "",
            "handle_color": null
          }
        },
        "6feb0fd95aa141dfa9cb33dcdc01ef12": {
          "model_module": "@jupyter-widgets/base",
          "model_name": "LayoutModel",
          "model_module_version": "1.2.0",
          "state": {
            "_model_module": "@jupyter-widgets/base",
            "_model_module_version": "1.2.0",
            "_model_name": "LayoutModel",
            "_view_count": null,
            "_view_module": "@jupyter-widgets/base",
            "_view_module_version": "1.2.0",
            "_view_name": "LayoutView",
            "align_content": null,
            "align_items": null,
            "align_self": null,
            "border": null,
            "bottom": null,
            "display": null,
            "flex": null,
            "flex_flow": null,
            "grid_area": null,
            "grid_auto_columns": null,
            "grid_auto_flow": null,
            "grid_auto_rows": null,
            "grid_column": null,
            "grid_gap": null,
            "grid_row": null,
            "grid_template_areas": null,
            "grid_template_columns": null,
            "grid_template_rows": null,
            "height": null,
            "justify_content": null,
            "justify_items": null,
            "left": null,
            "margin": null,
            "max_height": null,
            "max_width": null,
            "min_height": null,
            "min_width": null,
            "object_fit": null,
            "object_position": null,
            "order": null,
            "overflow": null,
            "overflow_x": null,
            "overflow_y": null,
            "padding": null,
            "right": null,
            "top": null,
            "visibility": null,
            "width": null
          }
        },
        "cde8de474bd84b2d88fe4eaa61fb94c4": {
          "model_module": "@jupyter-widgets/controls",
          "model_name": "SliderStyleModel",
          "model_module_version": "1.5.0",
          "state": {
            "_model_module": "@jupyter-widgets/controls",
            "_model_module_version": "1.5.0",
            "_model_name": "SliderStyleModel",
            "_view_count": null,
            "_view_module": "@jupyter-widgets/base",
            "_view_module_version": "1.2.0",
            "_view_name": "StyleView",
            "description_width": "",
            "handle_color": null
          }
        },
        "60c3e215d9c845c89d2f24044c66e00d": {
          "model_module": "@jupyter-widgets/base",
          "model_name": "LayoutModel",
          "model_module_version": "1.2.0",
          "state": {
            "_model_module": "@jupyter-widgets/base",
            "_model_module_version": "1.2.0",
            "_model_name": "LayoutModel",
            "_view_count": null,
            "_view_module": "@jupyter-widgets/base",
            "_view_module_version": "1.2.0",
            "_view_name": "LayoutView",
            "align_content": null,
            "align_items": null,
            "align_self": null,
            "border": null,
            "bottom": null,
            "display": null,
            "flex": null,
            "flex_flow": null,
            "grid_area": null,
            "grid_auto_columns": null,
            "grid_auto_flow": null,
            "grid_auto_rows": null,
            "grid_column": null,
            "grid_gap": null,
            "grid_row": null,
            "grid_template_areas": null,
            "grid_template_columns": null,
            "grid_template_rows": null,
            "height": null,
            "justify_content": null,
            "justify_items": null,
            "left": null,
            "margin": null,
            "max_height": null,
            "max_width": null,
            "min_height": null,
            "min_width": null,
            "object_fit": null,
            "object_position": null,
            "order": null,
            "overflow": null,
            "overflow_x": null,
            "overflow_y": null,
            "padding": null,
            "right": null,
            "top": null,
            "visibility": null,
            "width": null
          }
        },
        "6f2e9aa2f151466987b983cb4cc4f496": {
          "model_module": "@jupyter-widgets/controls",
          "model_name": "VBoxModel",
          "model_module_version": "1.5.0",
          "state": {
            "_dom_classes": [
              "widget-interact"
            ],
            "_model_module": "@jupyter-widgets/controls",
            "_model_module_version": "1.5.0",
            "_model_name": "VBoxModel",
            "_view_count": null,
            "_view_module": "@jupyter-widgets/controls",
            "_view_module_version": "1.5.0",
            "_view_name": "VBoxView",
            "box_style": "",
            "children": [
              "IPY_MODEL_2e27a49b5d4d405aafc110ff9e6bea4e",
              "IPY_MODEL_112adabbc5964a7ab3f5c8d348db0bed",
              "IPY_MODEL_2825e7f7add840289cce74f3707d0eb2",
              "IPY_MODEL_178268edef7741a3ab0da135516d278c",
              "IPY_MODEL_21256c2846d642ddb03b4fa8dd7e40a0"
            ],
            "layout": "IPY_MODEL_48f51c4baa0245f7b4bc6c245e362e3c"
          }
        },
        "2e27a49b5d4d405aafc110ff9e6bea4e": {
          "model_module": "@jupyter-widgets/controls",
          "model_name": "FloatSliderModel",
          "model_module_version": "1.5.0",
          "state": {
            "_dom_classes": [],
            "_model_module": "@jupyter-widgets/controls",
            "_model_module_version": "1.5.0",
            "_model_name": "FloatSliderModel",
            "_view_count": null,
            "_view_module": "@jupyter-widgets/controls",
            "_view_module_version": "1.5.0",
            "_view_name": "FloatSliderView",
            "continuous_update": true,
            "description": "m1",
            "description_tooltip": null,
            "disabled": false,
            "layout": "IPY_MODEL_8b8c224f90fc48b09d471616638db83b",
            "max": 1.5,
            "min": -4.5,
            "orientation": "horizontal",
            "readout": true,
            "readout_format": ".2f",
            "step": 0.1,
            "style": "IPY_MODEL_e1284a6d12264dccb64b8212780393fc",
            "value": 1.3
          }
        },
        "112adabbc5964a7ab3f5c8d348db0bed": {
          "model_module": "@jupyter-widgets/controls",
          "model_name": "FloatSliderModel",
          "model_module_version": "1.5.0",
          "state": {
            "_dom_classes": [],
            "_model_module": "@jupyter-widgets/controls",
            "_model_module_version": "1.5.0",
            "_model_name": "FloatSliderModel",
            "_view_count": null,
            "_view_module": "@jupyter-widgets/controls",
            "_view_module_version": "1.5.0",
            "_view_name": "FloatSliderView",
            "continuous_update": true,
            "description": "b1",
            "description_tooltip": null,
            "disabled": false,
            "layout": "IPY_MODEL_ddff2c8178b842a0843513ac773033d1",
            "max": 1.5,
            "min": -4.5,
            "orientation": "horizontal",
            "readout": true,
            "readout_format": ".2f",
            "step": 0.1,
            "style": "IPY_MODEL_c9864c5112a1415eb8fa353e2af6032d",
            "value": 0.4
          }
        },
        "2825e7f7add840289cce74f3707d0eb2": {
          "model_module": "@jupyter-widgets/controls",
          "model_name": "FloatSliderModel",
          "model_module_version": "1.5.0",
          "state": {
            "_dom_classes": [],
            "_model_module": "@jupyter-widgets/controls",
            "_model_module_version": "1.5.0",
            "_model_name": "FloatSliderModel",
            "_view_count": null,
            "_view_module": "@jupyter-widgets/controls",
            "_view_module_version": "1.5.0",
            "_view_name": "FloatSliderView",
            "continuous_update": true,
            "description": "m2",
            "description_tooltip": null,
            "disabled": false,
            "layout": "IPY_MODEL_17cce06965b948948856e497ef78f0e9",
            "max": 4.5,
            "min": -1.5,
            "orientation": "horizontal",
            "readout": true,
            "readout_format": ".2f",
            "step": 0.1,
            "style": "IPY_MODEL_c985981b351c40eca6de0b38dbbeacc6",
            "value": 3
          }
        },
        "178268edef7741a3ab0da135516d278c": {
          "model_module": "@jupyter-widgets/controls",
          "model_name": "FloatSliderModel",
          "model_module_version": "1.5.0",
          "state": {
            "_dom_classes": [],
            "_model_module": "@jupyter-widgets/controls",
            "_model_module_version": "1.5.0",
            "_model_name": "FloatSliderModel",
            "_view_count": null,
            "_view_module": "@jupyter-widgets/controls",
            "_view_module_version": "1.5.0",
            "_view_name": "FloatSliderView",
            "continuous_update": true,
            "description": "b2",
            "description_tooltip": null,
            "disabled": false,
            "layout": "IPY_MODEL_ac35782fcf3a4a6c9d02cb52ad928798",
            "max": 4.5,
            "min": -1.5,
            "orientation": "horizontal",
            "readout": true,
            "readout_format": ".2f",
            "step": 0.1,
            "style": "IPY_MODEL_e9cd2fe994dd4d8baa7becef60f74a44",
            "value": 3.7
          }
        },
        "21256c2846d642ddb03b4fa8dd7e40a0": {
          "model_module": "@jupyter-widgets/output",
          "model_name": "OutputModel",
          "model_module_version": "1.0.0",
          "state": {
            "_dom_classes": [],
            "_model_module": "@jupyter-widgets/output",
            "_model_module_version": "1.0.0",
            "_model_name": "OutputModel",
            "_view_count": null,
            "_view_module": "@jupyter-widgets/output",
            "_view_module_version": "1.0.0",
            "_view_name": "OutputView",
            "layout": "IPY_MODEL_3cdc1915a04f4539bc4e0ca9fd655af9",
            "msg_id": "",
            "outputs": [
              {
                "output_type": "display_data",
                "data": {
                  "text/plain": "<Figure size 540x360 with 1 Axes>",
                  "image/png": "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\n"
                },
                "metadata": {
                  "needs_background": "light"
                }
              }
            ]
          }
        },
        "48f51c4baa0245f7b4bc6c245e362e3c": {
          "model_module": "@jupyter-widgets/base",
          "model_name": "LayoutModel",
          "model_module_version": "1.2.0",
          "state": {
            "_model_module": "@jupyter-widgets/base",
            "_model_module_version": "1.2.0",
            "_model_name": "LayoutModel",
            "_view_count": null,
            "_view_module": "@jupyter-widgets/base",
            "_view_module_version": "1.2.0",
            "_view_name": "LayoutView",
            "align_content": null,
            "align_items": null,
            "align_self": null,
            "border": null,
            "bottom": null,
            "display": null,
            "flex": null,
            "flex_flow": null,
            "grid_area": null,
            "grid_auto_columns": null,
            "grid_auto_flow": null,
            "grid_auto_rows": null,
            "grid_column": null,
            "grid_gap": null,
            "grid_row": null,
            "grid_template_areas": null,
            "grid_template_columns": null,
            "grid_template_rows": null,
            "height": null,
            "justify_content": null,
            "justify_items": null,
            "left": null,
            "margin": null,
            "max_height": null,
            "max_width": null,
            "min_height": null,
            "min_width": null,
            "object_fit": null,
            "object_position": null,
            "order": null,
            "overflow": null,
            "overflow_x": null,
            "overflow_y": null,
            "padding": null,
            "right": null,
            "top": null,
            "visibility": null,
            "width": null
          }
        },
        "8b8c224f90fc48b09d471616638db83b": {
          "model_module": "@jupyter-widgets/base",
          "model_name": "LayoutModel",
          "model_module_version": "1.2.0",
          "state": {
            "_model_module": "@jupyter-widgets/base",
            "_model_module_version": "1.2.0",
            "_model_name": "LayoutModel",
            "_view_count": null,
            "_view_module": "@jupyter-widgets/base",
            "_view_module_version": "1.2.0",
            "_view_name": "LayoutView",
            "align_content": null,
            "align_items": null,
            "align_self": null,
            "border": null,
            "bottom": null,
            "display": null,
            "flex": null,
            "flex_flow": null,
            "grid_area": null,
            "grid_auto_columns": null,
            "grid_auto_flow": null,
            "grid_auto_rows": null,
            "grid_column": null,
            "grid_gap": null,
            "grid_row": null,
            "grid_template_areas": null,
            "grid_template_columns": null,
            "grid_template_rows": null,
            "height": null,
            "justify_content": null,
            "justify_items": null,
            "left": null,
            "margin": null,
            "max_height": null,
            "max_width": null,
            "min_height": null,
            "min_width": null,
            "object_fit": null,
            "object_position": null,
            "order": null,
            "overflow": null,
            "overflow_x": null,
            "overflow_y": null,
            "padding": null,
            "right": null,
            "top": null,
            "visibility": null,
            "width": null
          }
        },
        "e1284a6d12264dccb64b8212780393fc": {
          "model_module": "@jupyter-widgets/controls",
          "model_name": "SliderStyleModel",
          "model_module_version": "1.5.0",
          "state": {
            "_model_module": "@jupyter-widgets/controls",
            "_model_module_version": "1.5.0",
            "_model_name": "SliderStyleModel",
            "_view_count": null,
            "_view_module": "@jupyter-widgets/base",
            "_view_module_version": "1.2.0",
            "_view_name": "StyleView",
            "description_width": "",
            "handle_color": null
          }
        },
        "ddff2c8178b842a0843513ac773033d1": {
          "model_module": "@jupyter-widgets/base",
          "model_name": "LayoutModel",
          "model_module_version": "1.2.0",
          "state": {
            "_model_module": "@jupyter-widgets/base",
            "_model_module_version": "1.2.0",
            "_model_name": "LayoutModel",
            "_view_count": null,
            "_view_module": "@jupyter-widgets/base",
            "_view_module_version": "1.2.0",
            "_view_name": "LayoutView",
            "align_content": null,
            "align_items": null,
            "align_self": null,
            "border": null,
            "bottom": null,
            "display": null,
            "flex": null,
            "flex_flow": null,
            "grid_area": null,
            "grid_auto_columns": null,
            "grid_auto_flow": null,
            "grid_auto_rows": null,
            "grid_column": null,
            "grid_gap": null,
            "grid_row": null,
            "grid_template_areas": null,
            "grid_template_columns": null,
            "grid_template_rows": null,
            "height": null,
            "justify_content": null,
            "justify_items": null,
            "left": null,
            "margin": null,
            "max_height": null,
            "max_width": null,
            "min_height": null,
            "min_width": null,
            "object_fit": null,
            "object_position": null,
            "order": null,
            "overflow": null,
            "overflow_x": null,
            "overflow_y": null,
            "padding": null,
            "right": null,
            "top": null,
            "visibility": null,
            "width": null
          }
        },
        "c9864c5112a1415eb8fa353e2af6032d": {
          "model_module": "@jupyter-widgets/controls",
          "model_name": "SliderStyleModel",
          "model_module_version": "1.5.0",
          "state": {
            "_model_module": "@jupyter-widgets/controls",
            "_model_module_version": "1.5.0",
            "_model_name": "SliderStyleModel",
            "_view_count": null,
            "_view_module": "@jupyter-widgets/base",
            "_view_module_version": "1.2.0",
            "_view_name": "StyleView",
            "description_width": "",
            "handle_color": null
          }
        },
        "17cce06965b948948856e497ef78f0e9": {
          "model_module": "@jupyter-widgets/base",
          "model_name": "LayoutModel",
          "model_module_version": "1.2.0",
          "state": {
            "_model_module": "@jupyter-widgets/base",
            "_model_module_version": "1.2.0",
            "_model_name": "LayoutModel",
            "_view_count": null,
            "_view_module": "@jupyter-widgets/base",
            "_view_module_version": "1.2.0",
            "_view_name": "LayoutView",
            "align_content": null,
            "align_items": null,
            "align_self": null,
            "border": null,
            "bottom": null,
            "display": null,
            "flex": null,
            "flex_flow": null,
            "grid_area": null,
            "grid_auto_columns": null,
            "grid_auto_flow": null,
            "grid_auto_rows": null,
            "grid_column": null,
            "grid_gap": null,
            "grid_row": null,
            "grid_template_areas": null,
            "grid_template_columns": null,
            "grid_template_rows": null,
            "height": null,
            "justify_content": null,
            "justify_items": null,
            "left": null,
            "margin": null,
            "max_height": null,
            "max_width": null,
            "min_height": null,
            "min_width": null,
            "object_fit": null,
            "object_position": null,
            "order": null,
            "overflow": null,
            "overflow_x": null,
            "overflow_y": null,
            "padding": null,
            "right": null,
            "top": null,
            "visibility": null,
            "width": null
          }
        },
        "c985981b351c40eca6de0b38dbbeacc6": {
          "model_module": "@jupyter-widgets/controls",
          "model_name": "SliderStyleModel",
          "model_module_version": "1.5.0",
          "state": {
            "_model_module": "@jupyter-widgets/controls",
            "_model_module_version": "1.5.0",
            "_model_name": "SliderStyleModel",
            "_view_count": null,
            "_view_module": "@jupyter-widgets/base",
            "_view_module_version": "1.2.0",
            "_view_name": "StyleView",
            "description_width": "",
            "handle_color": null
          }
        },
        "ac35782fcf3a4a6c9d02cb52ad928798": {
          "model_module": "@jupyter-widgets/base",
          "model_name": "LayoutModel",
          "model_module_version": "1.2.0",
          "state": {
            "_model_module": "@jupyter-widgets/base",
            "_model_module_version": "1.2.0",
            "_model_name": "LayoutModel",
            "_view_count": null,
            "_view_module": "@jupyter-widgets/base",
            "_view_module_version": "1.2.0",
            "_view_name": "LayoutView",
            "align_content": null,
            "align_items": null,
            "align_self": null,
            "border": null,
            "bottom": null,
            "display": null,
            "flex": null,
            "flex_flow": null,
            "grid_area": null,
            "grid_auto_columns": null,
            "grid_auto_flow": null,
            "grid_auto_rows": null,
            "grid_column": null,
            "grid_gap": null,
            "grid_row": null,
            "grid_template_areas": null,
            "grid_template_columns": null,
            "grid_template_rows": null,
            "height": null,
            "justify_content": null,
            "justify_items": null,
            "left": null,
            "margin": null,
            "max_height": null,
            "max_width": null,
            "min_height": null,
            "min_width": null,
            "object_fit": null,
            "object_position": null,
            "order": null,
            "overflow": null,
            "overflow_x": null,
            "overflow_y": null,
            "padding": null,
            "right": null,
            "top": null,
            "visibility": null,
            "width": null
          }
        },
        "e9cd2fe994dd4d8baa7becef60f74a44": {
          "model_module": "@jupyter-widgets/controls",
          "model_name": "SliderStyleModel",
          "model_module_version": "1.5.0",
          "state": {
            "_model_module": "@jupyter-widgets/controls",
            "_model_module_version": "1.5.0",
            "_model_name": "SliderStyleModel",
            "_view_count": null,
            "_view_module": "@jupyter-widgets/base",
            "_view_module_version": "1.2.0",
            "_view_name": "StyleView",
            "description_width": "",
            "handle_color": null
          }
        },
        "3cdc1915a04f4539bc4e0ca9fd655af9": {
          "model_module": "@jupyter-widgets/base",
          "model_name": "LayoutModel",
          "model_module_version": "1.2.0",
          "state": {
            "_model_module": "@jupyter-widgets/base",
            "_model_module_version": "1.2.0",
            "_model_name": "LayoutModel",
            "_view_count": null,
            "_view_module": "@jupyter-widgets/base",
            "_view_module_version": "1.2.0",
            "_view_name": "LayoutView",
            "align_content": null,
            "align_items": null,
            "align_self": null,
            "border": null,
            "bottom": null,
            "display": null,
            "flex": null,
            "flex_flow": null,
            "grid_area": null,
            "grid_auto_columns": null,
            "grid_auto_flow": null,
            "grid_auto_rows": null,
            "grid_column": null,
            "grid_gap": null,
            "grid_row": null,
            "grid_template_areas": null,
            "grid_template_columns": null,
            "grid_template_rows": null,
            "height": null,
            "justify_content": null,
            "justify_items": null,
            "left": null,
            "margin": null,
            "max_height": null,
            "max_width": null,
            "min_height": null,
            "min_width": null,
            "object_fit": null,
            "object_position": null,
            "order": null,
            "overflow": null,
            "overflow_x": null,
            "overflow_y": null,
            "padding": null,
            "right": null,
            "top": null,
            "visibility": null,
            "width": null
          }
        }
      }
    }
  },
  "nbformat_minor": 0,
  "nbformat": 4,
  "cells": [
    {
      "cell_type": "markdown",
      "source": [
        "**Important**: The interactive features of this notebook don't work in Kaggle's *Reader* mode. They only work in *Edit* mode. Therefore, before starting reading this, please click \"**Copy & Edit**\" in the top right of this window, then in the menu click *Run* and then *Run all*. Then you'll be able to use all the interactive sliders in this notebook."
      ],
      "metadata": {
        "id": "qD56iqqSxfuZ"
      }
    },
    {
      "cell_type": "markdown",
      "source": [
        "## Fitting a function with *gradient descent*"
      ],
      "metadata": {
        "id": "RaTro_P3xfub"
      }
    },
    {
      "cell_type": "markdown",
      "source": [
        "A neural network is just a mathematical function. In the most standard kind of neural network, the function:\n",
        "\n",
        "1. Multiplies each input by a number of values. These values are known as *parameters*\n",
        "1. Adds them up for each group of values\n",
        "1. Replaces the negative numbers with zeros\n",
        "\n",
        "This represents one \"layer\". Then these three steps are repeated, using the outputs of the previous layer as the inputs to the next layer. Initially, the parameters in this function are selected randomly. Therefore a newly created neural network doesn't do anything useful at all -- it's just random!\n",
        "\n",
        "To get the function to \"learn\" to do something useful, we have to change the parameters to make them \"better\" in some way. We do this using *gradient descent*. Let's see how this works..."
      ],
      "metadata": {
        "id": "_vdCi7vAxfub"
      }
    },
    {
      "cell_type": "code",
      "source": [
        "from ipywidgets import interact\n",
        "from fastai.basics import *\n",
        "\n",
        "plt.rc('figure', dpi=90)\n",
        "\n",
        "def plot_function(f, title=None, min=-2.1, max=2.1, color='r', ylim=None):\n",
        "    x = torch.linspace(min,max, 100)[:,None]\n",
        "    if ylim: plt.ylim(ylim)\n",
        "    plt.plot(x, f(x), color)\n",
        "    if title is not None: plt.title(title)"
      ],
      "metadata": {
        "_kg_hide-input": true,
        "execution": {
          "iopub.status.busy": "2022-04-23T08:54:34.585263Z",
          "iopub.execute_input": "2022-04-23T08:54:34.587766Z",
          "iopub.status.idle": "2022-04-23T08:54:36.961606Z",
          "shell.execute_reply.started": "2022-04-23T08:54:34.587646Z",
          "shell.execute_reply": "2022-04-23T08:54:36.960846Z"
        },
        "trusted": true,
        "id": "mARaO2F-xfub"
      },
      "execution_count": 1,
      "outputs": []
    },
    {
      "cell_type": "markdown",
      "source": [
        "To learn how gradient descent works, we're going to start by fitting a quadratic, since that's a function most of us are probably more familiar with than a neural network. Here's the quadratic we're going to try to fit:"
      ],
      "metadata": {
        "id": "RNBOk3Jrxfuc"
      }
    },
    {
      "cell_type": "code",
      "source": [
        "def f(x): return 3*x**2 + 2*x + 1\n",
        "\n",
        "plot_function(f, \"$3x^2 + 2x + 1$\")"
      ],
      "metadata": {
        "execution": {
          "iopub.status.busy": "2022-04-23T08:54:36.963135Z",
          "iopub.execute_input": "2022-04-23T08:54:36.96361Z",
          "iopub.status.idle": "2022-04-23T08:54:37.603953Z",
          "shell.execute_reply.started": "2022-04-23T08:54:36.963574Z",
          "shell.execute_reply": "2022-04-23T08:54:37.60309Z"
        },
        "trusted": true,
        "colab": {
          "base_uri": "https://localhost:8080/",
          "height": 351
        },
        "id": "69tBipapxfuc",
        "outputId": "9ead1498-3b24-4f10-84c9-2728cecdfcd1"
      },
      "execution_count": 2,
      "outputs": [
        {
          "output_type": "display_data",
          "data": {
            "text/plain": [
              "<Figure size 540x360 with 1 Axes>"
            ],
            "image/png": "[encoded data removed]"
          },
          "metadata": {
            "needs_background": "light"
          }
        }
      ]
    },
    {
      "cell_type": "markdown",
      "source": [
        "This quadratic is of the form $ax^2+bx+c$, with parameters $a=3$, $b=2$, $c=1$. To make it easier to try out different quadratics for fitting a model to the data we'll create, let's create a function that calculates the value of a point on any quadratic:"
      ],
      "metadata": {
        "id": "u5TGUyKnxfuc"
      }
    },
    {
      "cell_type": "code",
      "source": [
        "def quad(a, b, c, x): return a*x**2 + b*x + c"
      ],
      "metadata": {
        "execution": {
          "iopub.status.busy": "2022-04-23T08:54:37.605073Z",
          "iopub.execute_input": "2022-04-23T08:54:37.605295Z",
          "iopub.status.idle": "2022-04-23T08:54:37.610024Z",
          "shell.execute_reply.started": "2022-04-23T08:54:37.605268Z",
          "shell.execute_reply": "2022-04-23T08:54:37.609103Z"
        },
        "trusted": true,
        "id": "A0rKuxlOxfud"
      },
      "execution_count": 3,
      "outputs": []
    },
    {
      "cell_type": "markdown",
      "source": [
        "If we fix some particular values of a, b, and c, then we'll have made a \n",
        "\n",
        "1.   List item\n",
        "2.   List item\n",
        "\n",
        "quadratic. To fix values passed to a function in python, we use the `partial` function, like so:"
      ],
      "metadata": {
        "id": "7po9BGE2xfud"
      }
    },
    {
      "cell_type": "code",
      "source": [
        "def mk_quad(a,b,c): return partial(quad, a,b,c)"
      ],
      "metadata": {
        "execution": {
          "iopub.status.busy": "2022-04-23T08:54:37.611932Z",
          "iopub.execute_input": "2022-04-23T08:54:37.612415Z",
          "iopub.status.idle": "2022-04-23T08:54:37.622926Z",
          "shell.execute_reply.started": "2022-04-23T08:54:37.612377Z",
          "shell.execute_reply": "2022-04-23T08:54:37.622077Z"
        },
        "trusted": true,
        "id": "ouJenqvxxfud"
      },
      "execution_count": 4,
      "outputs": []
    },
    {
      "cell_type": "markdown",
      "source": [
        "So for instance, we can recreate our previous quadratic:"
      ],
      "metadata": {
        "id": "E6RcShhdxfud"
      }
    },
    {
      "cell_type": "code",
      "source": [
        "f2 = mk_quad(3,2,1)\n",
        "plot_function(f2)"
      ],
      "metadata": {
        "execution": {
          "iopub.status.busy": "2022-04-23T08:54:37.624649Z",
          "iopub.execute_input": "2022-04-23T08:54:37.625357Z",
          "iopub.status.idle": "2022-04-23T08:54:37.829696Z",
          "shell.execute_reply.started": "2022-04-23T08:54:37.62531Z",
          "shell.execute_reply": "2022-04-23T08:54:37.828997Z"
        },
        "trusted": true,
        "colab": {
          "base_uri": "https://localhost:8080/",
          "height": 328
        },
        "id": "y9HG6GMWxfue",
        "outputId": "9c14c973-cba8-4b01-9a95-14782f8d7274"
      },
      "execution_count": 5,
      "outputs": [
        {
          "output_type": "display_data",
          "data": {
            "text/plain": [
              "<Figure size 540x360 with 1 Axes>"
            ],
            "image/png": "[encoded data removed]"
          },
          "metadata": {
            "needs_background": "light"
          }
        }
      ]
    },
    {
      "cell_type": "markdown",
      "source": [
        "Now let's simulate making some noisy measurements of our quadratic `f`. We'll then use gradient descent to see if we can recreate the original function from the data.\n",
        "\n",
        "Here's a couple of functions to add some random noise to data:"
      ],
      "metadata": {
        "id": "eyToC4ofxfue"
      }
    },
    {
      "cell_type": "code",
      "source": [
        "def noise(x, scale): \n",
        "  return np.random.normal(scale=scale, size=x.shape)\n",
        "\n",
        "def add_noise(x, mult, add): \n",
        "  return x * (1+noise(x,mult)) + noise(x,add)"
      ],
      "metadata": {
        "execution": {
          "iopub.status.busy": "2022-04-23T08:54:37.831069Z",
          "iopub.execute_input": "2022-04-23T08:54:37.831627Z",
          "iopub.status.idle": "2022-04-23T08:54:37.838391Z",
          "shell.execute_reply.started": "2022-04-23T08:54:37.831581Z",
          "shell.execute_reply": "2022-04-23T08:54:37.837454Z"
        },
        "trusted": true,
        "id": "OFrp3bSkxfue"
      },
      "execution_count": 6,
      "outputs": []
    },
    {
      "cell_type": "markdown",
      "source": [
        "Let's use the now to create our noisy measurements based on the quadratic above:"
      ],
      "metadata": {
        "id": "1SnQMgbWxfue"
      }
    },
    {
      "cell_type": "code",
      "source": [
        "np.random.seed(42)\n",
        "\n",
        "x = torch.linspace(-2, 2, steps=20)[:,None]\n",
        "y = add_noise(f(x), 0.15, 1.5)"
      ],
      "metadata": {
        "execution": {
          "iopub.status.busy": "2022-04-23T08:54:37.839727Z",
          "iopub.execute_input": "2022-04-23T08:54:37.83997Z",
          "iopub.status.idle": "2022-04-23T08:54:37.86166Z",
          "shell.execute_reply.started": "2022-04-23T08:54:37.839939Z",
          "shell.execute_reply": "2022-04-23T08:54:37.861067Z"
        },
        "trusted": true,
        "id": "yROQblsHxfue"
      },
      "execution_count": 7,
      "outputs": []
    },
    {
      "cell_type": "markdown",
      "source": [
        "Here's the first few values of each of `x` and `y`:"
      ],
      "metadata": {
        "id": "IjpZBMeDxfuf"
      }
    },
    {
      "cell_type": "code",
      "source": [
        "x[:5],y[:5]"
      ],
      "metadata": {
        "execution": {
          "iopub.status.busy": "2022-04-23T08:54:37.862576Z",
          "iopub.execute_input": "2022-04-23T08:54:37.863311Z",
          "iopub.status.idle": "2022-04-23T08:54:37.901746Z",
          "shell.execute_reply.started": "2022-04-23T08:54:37.863275Z",
          "shell.execute_reply": "2022-04-23T08:54:37.9009Z"
        },
        "trusted": true,
        "colab": {
          "base_uri": "https://localhost:8080/"
        },
        "id": "RLjaXKGexfuf",
        "outputId": "5e98d770-65d6-47b9-a241-5b3ba97ff906"
      },
      "execution_count": 8,
      "outputs": [
        {
          "output_type": "execute_result",
          "data": {
            "text/plain": [
              "(tensor([[-2.0000],\n",
              "         [-1.7895],\n",
              "         [-1.5789],\n",
              "         [-1.3684],\n",
              "         [-1.1579]]), tensor([[11.8690],\n",
              "         [ 6.5433],\n",
              "         [ 5.9396],\n",
              "         [ 2.6304],\n",
              "         [ 1.7947]], dtype=torch.float64))"
            ]
          },
          "metadata": {},
          "execution_count": 8
        }
      ]
    },
    {
      "cell_type": "markdown",
      "source": [
        "As you can see, they're *tensors*. A tensor is just like an `array` in numpy (if you're not familiar with numpy, I strongly recommend reading [this great book](https://wesmckinney.com/book/), because it's a critical foundation for nearly all numeric programming in Python. Furthermore, PyTorch, which most researchers use for deep learning, is modeled closely on numpy.) A tensor can be a single number (a *scalar* or *rank-0 tensor*), a list of numbers (a *vector* or *rank-1 tensor*), a table of numbers (a *matrix* or *rank-0 tensor*), a table of tables of numbers (a *rank-3 tensor*), and so forth.\n",
        "\n",
        "We're not going to learn much about our data by just looking at the raw numbers, so let's draw a picture:"
      ],
      "metadata": {
        "id": "iisXSVIaxfuf"
      }
    },
    {
      "cell_type": "code",
      "source": [
        "plt.scatter(x,y);"
      ],
      "metadata": {
        "execution": {
          "iopub.status.busy": "2022-04-23T08:54:37.903248Z",
          "iopub.execute_input": "2022-04-23T08:54:37.903736Z",
          "iopub.status.idle": "2022-04-23T08:54:38.141765Z",
          "shell.execute_reply.started": "2022-04-23T08:54:37.903689Z",
          "shell.execute_reply": "2022-04-23T08:54:38.140818Z"
        },
        "trusted": true,
        "colab": {
          "base_uri": "https://localhost:8080/",
          "height": 328
        },
        "id": "2YQvCwtaxfuf",
        "outputId": "12218bfa-7eb6-434e-f8b9-ffd3fb219463"
      },
      "execution_count": 9,
      "outputs": [
        {
          "output_type": "display_data",
          "data": {
            "text/plain": [
              "<Figure size 540x360 with 1 Axes>"
            ],
            "image/png": "[encoded data removed]"
          },
          "metadata": {
            "needs_background": "light"
          }
        }
      ]
    },
    {
      "cell_type": "markdown",
      "source": [
        "How do we find values of a, b, and c which fit this data? One approach is to try a few values and see what fits. Here's a function which overlays a quadratic on top of our data, along with some sliders to change a, b, and c, and see how it looks:"
      ],
      "metadata": {
        "id": "-pi15cQ9xfuf"
      }
    },
    {
      "cell_type": "code",
      "source": [
        "@interact(a=1.1, b=1.1, c=1.1)\n",
        "def plot_quad(a, b, c):\n",
        "    plt.scatter(x,y)\n",
        "    plot_function(mk_quad(a,b,c), ylim=(-3,13))"
      ],
      "metadata": {
        "execution": {
          "iopub.status.busy": "2022-04-23T08:54:38.143544Z",
          "iopub.execute_input": "2022-04-23T08:54:38.143753Z",
          "iopub.status.idle": "2022-04-23T08:54:38.372553Z",
          "shell.execute_reply.started": "2022-04-23T08:54:38.143725Z",
          "shell.execute_reply": "2022-04-23T08:54:38.37172Z"
        },
        "trusted": true,
        "colab": {
          "base_uri": "https://localhost:8080/",
          "height": 424,
          "referenced_widgets": [
            "ce453e67267a48439fc4bad91c029887",
            "44c633fb7b744dae91a1b4b75e2e19fd",
            "bf5a4d96cfc14b7e9736d130adaa08ea",
            "e78decd83b0347f6b57cd23fd2f9f0e4",
            "0fccbc5473a945968ad352d98a79369d",
            "74ba5bc7ccca4f09b46a30785e6b522c",
            "b77e47c7090a44a89c398ef20e6d1aad",
            "1aa9a40d112641c4862568fbb247647f",
            "b542513127a9464dab2282d20960e250",
            "7aaf38af67c8497b9c05cfaf9013ce08",
            "b7c8f9e4de784c3da4a8c4b34b32d7cc",
            "6d1157da94d046da885a0a4a0658db88",
            "8b9f42216a3843b1bdb9f6dc1bcb4754"
          ]
        },
        "id": "jMB4H5zjxfuf",
        "outputId": "14835f6b-c910-4376-f94c-0a9b90c8cd40"
      },
      "execution_count": 10,
      "outputs": [
        {
          "output_type": "display_data",
          "data": {
            "text/plain": [
              "interactive(children=(FloatSlider(value=1.1, description='a', max=3.3000000000000003, min=-1.1), FloatSlider(v…"
            ],
            "application/vnd.jupyter.widget-view+json": {
              "version_major": 2,
              "version_minor": 0,
              "model_id": "ce453e67267a48439fc4bad91c029887"
            }
          },
          "metadata": {}
        }
      ]
    },
    {
      "cell_type": "markdown",
      "source": [
        "**Reminder**: If the sliders above aren't working for you, that's because the interactive features of this notebook don't work in Kaggle's *Reader* mode. They only work in *Edit* mode. Please click \"**Copy & Edit**\" in the top right of this window, then in the menu click *Run* and then *Run all*. Then you'll be able to use all the interactive sliders in this notebook."
      ],
      "metadata": {
        "id": "rpcyI8_oxfug"
      }
    },
    {
      "cell_type": "markdown",
      "source": [
        "Try moving slider `a` a bit to the left. Does that look better or worse? How about if you move it a bit to the right? Find out which direction seems to improve the fit of the quadratic to the data, and move the slider a bit in that direction. Next, do the same for slider `b`: first figure out which direction improves the fit, then move it a bit in that direction. Then do the same for `c`.\n",
        "\n",
        "OK, now go back to slider `a` and repeat the process. Do it again for `b` and `c` as well.\n",
        "\n",
        "Did you notice that by going back and doing the sliders a second time that you were able to improve things a bit further? That's an important insight -- it's only after changing `b` and `c`, for instance, that you realise that `a` actually needs some adjustment based on those new values.\n",
        "\n",
        "One thing that's making this tricky is that we don't really have a great sense of whether our fit is really better or worse. It would be easier if we had a numeric measure of that. On easy metric we could use is *mean absolute error* -- which is the distance from each data point to the curve:"
      ],
      "metadata": {
        "id": "GyHGvzwtxfug"
      }
    },
    {
      "cell_type": "code",
      "source": [
        "def mae(preds, acts): \n",
        "  return (torch.abs(preds-acts)).mean()"
      ],
      "metadata": {
        "execution": {
          "iopub.status.busy": "2022-04-23T08:55:06.428918Z",
          "iopub.execute_input": "2022-04-23T08:55:06.429237Z",
          "iopub.status.idle": "2022-04-23T08:55:06.433738Z",
          "shell.execute_reply.started": "2022-04-23T08:55:06.429205Z",
          "shell.execute_reply": "2022-04-23T08:55:06.432713Z"
        },
        "trusted": true,
        "id": "iSV0YrKlxfug"
      },
      "execution_count": 11,
      "outputs": []
    },
    {
      "cell_type": "markdown",
      "source": [
        "We'll update our interactive function to print this at the top for us.\n",
        "\n",
        "Use this to repeat the approach we took before to try to find the best fit, but this time just use the value of the metric to decide which direction to move each slider, and how far to move it.\n",
        "\n",
        "This time around, try doing it in the opposite order: `c`, then `b`, then `a`.\n",
        "\n",
        "You'll probably find that you have to go through the set of sliders a couple of times to get the best fit."
      ],
      "metadata": {
        "id": "b9VS_vQpxfug"
      }
    },
    {
      "cell_type": "code",
      "source": [
        "@interact(a=1.1, b=1.1, c=1.1)\n",
        "def plot_quad(a, b, c):\n",
        "    f = mk_quad(a,b,c)\n",
        "    plt.scatter(x,y)\n",
        "    loss = mae(f(x), y)\n",
        "    plot_function(f, ylim=(-3,12), title=f\"MAE: {loss:.2f}\")"
      ],
      "metadata": {
        "execution": {
          "iopub.status.busy": "2022-04-23T08:55:07.451295Z",
          "iopub.execute_input": "2022-04-23T08:55:07.452152Z",
          "iopub.status.idle": "2022-04-23T08:55:07.701428Z",
          "shell.execute_reply.started": "2022-04-23T08:55:07.452102Z",
          "shell.execute_reply": "2022-04-23T08:55:07.700643Z"
        },
        "trusted": true,
        "colab": {
          "base_uri": "https://localhost:8080/",
          "height": 444,
          "referenced_widgets": [
            "cfc7de024dbf44b982c11a3146a8401a",
            "990e535fd5804dd8b693df58f16925e4",
            "118555bc896a4ba4be5fe1d21dc2358e",
            "a26c741bc0ee45a387be6cb05e140cf6",
            "7623edbb65f14dfb829314c3b932a453",
            "28c20458132a40a7bc48b6dc86f168e8",
            "9216ea5a50cc43d593b4debe56c7f30a",
            "90083e03f96841aea454a9a8a1eb79e6",
            "b70741b37b794185aad2fd41912befa9",
            "d0c9a05fc76c4ff8832785dd9b7f50e5",
            "238a98cf1c784a1487633306de52181d",
            "8008d934c96241b1b7efb4442ee1425d",
            "256cf9cee2c940aba9e6adf1fd0fcdaf"
          ]
        },
        "id": "wBYHajoIxfug",
        "outputId": "3b35726c-2101-41d3-9b9d-131ef47c10c7"
      },
      "execution_count": 12,
      "outputs": [
        {
          "output_type": "display_data",
          "data": {
            "text/plain": [
              "interactive(children=(FloatSlider(value=1.1, description='a', max=3.3000000000000003, min=-1.1), FloatSlider(v…"
            ],
            "application/vnd.jupyter.widget-view+json": {
              "version_major": 2,
              "version_minor": 0,
              "model_id": "cfc7de024dbf44b982c11a3146a8401a"
            }
          },
          "metadata": {}
        }
      ]
    },
    {
      "cell_type": "markdown",
      "source": [
        "In a modern neural network we'll often have tens of millions of parameters to fit, or more, and thousands or millions of data points to fit them to. We're not going to be able to do that by moving sliders around! We'll need to automate this process.\n",
        "\n",
        "Thankfully, that turns out to be pretty straightforward. We can use calculus to figure out, for each parameter, whether we should increase or decrease it.\n",
        "\n",
        "Uh oh, calculus! If you haven't touched calculus since school, you might be getting ready to run away at this point. But don't worry, we don't actually need much calculus at all. Just derivatives, which measure the rate of change of a function. We don't even need to calculate them ourselves, because the computer will do it for us! If you've forgotten what a derivitive is, then watch the first three of these fantastic [videos by Professor Dave](https://www.youtube.com/playlist?list=PLybg94GvOJ9ELZEe9s2NXTKr41Yedbw7M). It's only 15 minutes in total, so give it a go! Then come back here and we'll continue on our journey..."
      ],
      "metadata": {
        "id": "kqSWHk1Nxfug"
      }
    },
    {
      "cell_type": "markdown",
      "source": [
        "## Automating gradient descent"
      ],
      "metadata": {
        "id": "b8KCF284xfuh"
      }
    },
    {
      "cell_type": "markdown",
      "source": [
        "The basic idea is this: if we know the *gradient* of our `mae()` function *with respect to* our parameters, `a`, `b`, and `c`, then that means we know how adjusting (for instance) `a` will change the value of `mae()`. If, say, `a` has a *negative* gradient, then we know that increasing `a` will decrease `mae()`. Then we know that's what we need to do, since we trying to make `mae()` as low as possible.\n",
        "\n",
        "So, we find the gradient of `mae()` for each of our parameters, and then adjust our parameters a bit in the *opposite* direction to the sign of the gradient.\n",
        "\n",
        "To do this, first we need a function that takes all the parameters `a`, `b`, and `c` as a single vector input, and returns the value `mae()` based on those parameters:"
      ],
      "metadata": {
        "id": "BRE9zqZnxfuh"
      }
    },
    {
      "cell_type": "code",
      "source": [
        "def quad_mae(params):\n",
        "    f = mk_quad(*params)\n",
        "    return mae(f(x), y)"
      ],
      "metadata": {
        "execution": {
          "iopub.status.busy": "2022-04-22T22:28:41.831976Z",
          "iopub.execute_input": "2022-04-22T22:28:41.832211Z",
          "iopub.status.idle": "2022-04-22T22:28:41.837761Z",
          "shell.execute_reply.started": "2022-04-22T22:28:41.832181Z",
          "shell.execute_reply": "2022-04-22T22:28:41.836892Z"
        },
        "trusted": true,
        "id": "E3DSDVDgxfuh"
      },
      "execution_count": 13,
      "outputs": []
    },
    {
      "cell_type": "markdown",
      "source": [
        "Let's try it:"
      ],
      "metadata": {
        "id": "zGPjF3GMxfuh"
      }
    },
    {
      "cell_type": "code",
      "source": [
        "quad_mae([1.1, 1.1, 1.1])"
      ],
      "metadata": {
        "execution": {
          "iopub.status.busy": "2022-04-22T22:28:41.839427Z",
          "iopub.execute_input": "2022-04-22T22:28:41.839663Z",
          "iopub.status.idle": "2022-04-22T22:28:41.853343Z",
          "shell.execute_reply.started": "2022-04-22T22:28:41.839635Z",
          "shell.execute_reply": "2022-04-22T22:28:41.852644Z"
        },
        "trusted": true,
        "colab": {
          "base_uri": "https://localhost:8080/"
        },
        "id": "UfTIU5xkxfuh",
        "outputId": "15a04d3a-43b5-4aa5-e6c9-6ad1f7eca453"
      },
      "execution_count": 14,
      "outputs": [
        {
          "output_type": "execute_result",
          "data": {
            "text/plain": [
              "tensor(2.4219, dtype=torch.float64)"
            ]
          },
          "metadata": {},
          "execution_count": 14
        }
      ]
    },
    {
      "cell_type": "markdown",
      "source": [
        "Yup, that's the same as the starting `mae()` we had in our plot before.\n",
        "\n",
        "We're first going to do exactly the same thing as we did manually -- pick some arbritrary starting point for our parameters. We'll put them all into a single tensor:"
      ],
      "metadata": {
        "id": "WZ5ZXDpuxfuh"
      }
    },
    {
      "cell_type": "code",
      "source": [
        "abc = torch.tensor([1.1,1.1,1.1])"
      ],
      "metadata": {
        "execution": {
          "iopub.status.busy": "2022-04-22T22:28:41.854708Z",
          "iopub.execute_input": "2022-04-22T22:28:41.855001Z",
          "iopub.status.idle": "2022-04-22T22:28:41.863677Z",
          "shell.execute_reply.started": "2022-04-22T22:28:41.854965Z",
          "shell.execute_reply": "2022-04-22T22:28:41.862424Z"
        },
        "trusted": true,
        "id": "9N7_E-vJxfui"
      },
      "execution_count": 15,
      "outputs": []
    },
    {
      "cell_type": "markdown",
      "source": [
        "To tell PyTorch that we want it to calculate gradients for these parameters, we need to call `requires_grad_()`:"
      ],
      "metadata": {
        "id": "dIvC8uGpxfui"
      }
    },
    {
      "cell_type": "code",
      "source": [
        "abc.requires_grad_()"
      ],
      "metadata": {
        "execution": {
          "iopub.status.busy": "2022-04-22T22:28:41.865105Z",
          "iopub.execute_input": "2022-04-22T22:28:41.86557Z",
          "iopub.status.idle": "2022-04-22T22:28:41.881016Z",
          "shell.execute_reply.started": "2022-04-22T22:28:41.865497Z",
          "shell.execute_reply": "2022-04-22T22:28:41.879681Z"
        },
        "trusted": true,
        "colab": {
          "base_uri": "https://localhost:8080/"
        },
        "id": "ENpAIITXxfui",
        "outputId": "29fdd990-563c-4f32-944b-d272cae25640"
      },
      "execution_count": 16,
      "outputs": [
        {
          "output_type": "execute_result",
          "data": {
            "text/plain": [
              "tensor([1.1000, 1.1000, 1.1000], requires_grad=True)"
            ]
          },
          "metadata": {},
          "execution_count": 16
        }
      ]
    },
    {
      "cell_type": "markdown",
      "source": [
        "We can now calculate `mae()`. Generally, when doing gradient descent, the thing we're trying to minimise is called the *loss*:"
      ],
      "metadata": {
        "id": "uE2Vj5VCxfui"
      }
    },
    {
      "cell_type": "code",
      "source": [
        "loss = quad_mae(abc)\n",
        "loss"
      ],
      "metadata": {
        "execution": {
          "iopub.status.busy": "2022-04-22T22:28:41.882498Z",
          "iopub.execute_input": "2022-04-22T22:28:41.882908Z",
          "iopub.status.idle": "2022-04-22T22:28:41.894811Z",
          "shell.execute_reply.started": "2022-04-22T22:28:41.882865Z",
          "shell.execute_reply": "2022-04-22T22:28:41.893828Z"
        },
        "trusted": true,
        "colab": {
          "base_uri": "https://localhost:8080/"
        },
        "id": "RhaCkn4zxfui",
        "outputId": "a1ffe941-1977-4051-d279-ba77a5b439cd"
      },
      "execution_count": 24,
      "outputs": [
        {
          "output_type": "execute_result",
          "data": {
            "text/plain": [
              "tensor(1.7809, dtype=torch.float64, grad_fn=<MeanBackward0>)"
            ]
          },
          "metadata": {},
          "execution_count": 24
        }
      ]
    },
    {
      "cell_type": "markdown",
      "source": [
        "To get PyTorch to now calculate the gradients, we need to call `backward()`"
      ],
      "metadata": {
        "id": "sC2Sc50hxfuj"
      }
    },
    {
      "cell_type": "code",
      "source": [
        "loss.backward()"
      ],
      "metadata": {
        "execution": {
          "iopub.status.busy": "2022-04-22T22:28:41.896144Z",
          "iopub.execute_input": "2022-04-22T22:28:41.896493Z",
          "iopub.status.idle": "2022-04-22T22:28:41.914719Z",
          "shell.execute_reply.started": "2022-04-22T22:28:41.896462Z",
          "shell.execute_reply": "2022-04-22T22:28:41.913717Z"
        },
        "trusted": true,
        "id": "xi45r_joxfuj"
      },
      "execution_count": 25,
      "outputs": []
    },
    {
      "cell_type": "markdown",
      "source": [
        "The gradients will be stored for us in an attribute called `grad`:"
      ],
      "metadata": {
        "id": "jBEA9NOwxfuj"
      }
    },
    {
      "cell_type": "code",
      "source": [
        "abc.grad"
      ],
      "metadata": {
        "execution": {
          "iopub.status.busy": "2022-04-22T22:28:41.916372Z",
          "iopub.execute_input": "2022-04-22T22:28:41.91704Z",
          "iopub.status.idle": "2022-04-22T22:28:41.925299Z",
          "shell.execute_reply.started": "2022-04-22T22:28:41.916988Z",
          "shell.execute_reply": "2022-04-22T22:28:41.924407Z"
        },
        "trusted": true,
        "colab": {
          "base_uri": "https://localhost:8080/"
        },
        "id": "krT_YR8exfuj",
        "outputId": "7e87e461-6b86-49c9-de73-bff0fa955329"
      },
      "execution_count": 26,
      "outputs": [
        {
          "output_type": "execute_result",
          "data": {
            "text/plain": [
              "tensor([ 6.5618, -1.6000,  9.8000])"
            ]
          },
          "metadata": {},
          "execution_count": 26
        }
      ]
    },
    {
      "cell_type": "markdown",
      "source": [
        "According to these gradients, all our parameters are a little low. So let's increase them a bit. If we subtract the gradient, multiplied by a small number, that should improve them a bit:"
      ],
      "metadata": {
        "id": "8lSGbnz-xfuj"
      }
    },
    {
      "cell_type": "code",
      "source": [
        "with torch.no_grad():\n",
        "    abc -= abc.grad*0.01\n",
        "    loss = quad_mae(abc)\n",
        "    \n",
        "print(f'loss={loss:.2f}')"
      ],
      "metadata": {
        "execution": {
          "iopub.status.busy": "2022-04-22T22:28:41.927221Z",
          "iopub.execute_input": "2022-04-22T22:28:41.927714Z",
          "iopub.status.idle": "2022-04-22T22:28:41.941471Z",
          "shell.execute_reply.started": "2022-04-22T22:28:41.927665Z",
          "shell.execute_reply": "2022-04-22T22:28:41.940784Z"
        },
        "trusted": true,
        "colab": {
          "base_uri": "https://localhost:8080/"
        },
        "id": "gTai6fA2xfuj",
        "outputId": "09e2396d-a284-4249-d723-c0a9c5bf7b97"
      },
      "execution_count": 27,
      "outputs": [
        {
          "output_type": "stream",
          "name": "stdout",
          "text": [
            "loss=1.66\n"
          ]
        }
      ]
    },
    {
      "cell_type": "markdown",
      "source": [
        "Yes, our loss has gone down!\n",
        "\n",
        "The \"small number\" we multiply is called the *learning rate*, and is the most important *hyper-parameter* to set when training a neural network.\n",
        "\n",
        "BTW, you'll see we had to wrap our calculation of the new parameters in `with torch.no_grad()`. That disables the calculation of gradients for any operations inside that context manager. We have to do that, because `abc -= abc.grad*0.01` isn't actually part of our quadratic model, so we don't want derivitives to include that calculation.\n",
        "\n",
        "We can use a loop to do a few more iterations of this:"
      ],
      "metadata": {
        "id": "DOds1Eprxfuj"
      }
    },
    {
      "cell_type": "code",
      "source": [
        "for i in range(20):\n",
        "    loss = quad_mae(abc)\n",
        "    loss.backward()\n",
        "    with torch.no_grad(): \n",
        "      abc -= abc.grad*0.01\n",
        "    print(f'step={i}; loss={loss:.2f}')"
      ],
      "metadata": {
        "execution": {
          "iopub.status.busy": "2022-04-22T22:28:41.942822Z",
          "iopub.execute_input": "2022-04-22T22:28:41.943242Z",
          "iopub.status.idle": "2022-04-22T22:28:41.968186Z",
          "shell.execute_reply.started": "2022-04-22T22:28:41.943202Z",
          "shell.execute_reply": "2022-04-22T22:28:41.967081Z"
        },
        "trusted": true,
        "colab": {
          "base_uri": "https://localhost:8080/"
        },
        "id": "fMMO8S1Fxfuj",
        "outputId": "cd1561d6-25db-4be4-dfb1-c8b14a7206ad"
      },
      "execution_count": 31,
      "outputs": [
        {
          "output_type": "stream",
          "name": "stdout",
          "text": [
            "step=0; loss=1.31\n",
            "step=1; loss=1.47\n",
            "step=2; loss=1.63\n",
            "step=3; loss=1.80\n",
            "step=4; loss=1.95\n",
            "step=5; loss=2.08\n",
            "step=6; loss=2.18\n",
            "step=7; loss=2.26\n",
            "step=8; loss=2.31\n",
            "step=9; loss=2.33\n",
            "step=10; loss=2.34\n",
            "step=11; loss=2.31\n",
            "step=12; loss=2.27\n",
            "step=13; loss=2.19\n",
            "step=14; loss=2.11\n",
            "step=15; loss=1.99\n",
            "step=16; loss=1.86\n",
            "step=17; loss=1.71\n",
            "step=18; loss=1.54\n",
            "step=19; loss=1.38\n"
          ]
        }
      ]
    },
    {
      "cell_type": "markdown",
      "source": [
        "As you can see, our loss keeps going down!\n",
        "\n",
        "If you keep running this loop for long enough however, you'll see that the loss eventually starts increasing for a while. That's because once the parameters get close to the correct answer, our parameter updates will jump right over the correct answer! To avoid this, we need to decrease our learning rate as we train. This is done using a *learning rate schedule*, and can be automated in most deep learning frameworks, such as fastai and PyTorch."
      ],
      "metadata": {
        "id": "avsDbdwsxfuk"
      }
    },
    {
      "cell_type": "markdown",
      "source": [
        "## How a neural network approximates any given function"
      ],
      "metadata": {
        "id": "wY9Lc70Uxfuk"
      }
    },
    {
      "cell_type": "markdown",
      "source": [
        "But neural nets are much more convenient and powerful than this example showed, because we can learn much more than just a quadratic with them. How does *that* work?\n",
        "\n",
        "The trick is that a neural network is a very expressive function. In fact -- it's [infinitely expressive](https://en.wikipedia.org/wiki/Universal_approximation_theorem). A neural network can approximate any computable function, given enough parameters. A \"computable function\" can cover just about anything you can imagine: understand and translate human speech; paint a picture; diagnose a disease from medical imaging; write an essay; etc...\n",
        "\n",
        "The way a neural network approximates a function actually turns out to be very simple. The key trick is to combine two extremely basic steps:\n",
        "\n",
        "1. Matrix multiplication, which is just multiplying things together and then adding them up\n",
        "1. The function $max(x,0)$, which simply replaces all negative numbers with zero.\n",
        "\n",
        "In PyTorch, the function $max(x,0)$ is written as `np.clip(x,0)`. The combination of a linear function and this *max()* is called a *rectified linear function*, and it can be implemented like this:"
      ],
      "metadata": {
        "id": "J0t5-Ri6xfuk"
      }
    },
    {
      "cell_type": "code",
      "source": [
        "def rectified_linear(m,b,x):\n",
        "    y = m*x+b\n",
        "    return torch.clip(y, 0.)"
      ],
      "metadata": {
        "execution": {
          "iopub.status.busy": "2022-04-22T22:28:41.970051Z",
          "iopub.execute_input": "2022-04-22T22:28:41.970814Z",
          "iopub.status.idle": "2022-04-22T22:28:41.976113Z",
          "shell.execute_reply.started": "2022-04-22T22:28:41.970763Z",
          "shell.execute_reply": "2022-04-22T22:28:41.975338Z"
        },
        "trusted": true,
        "id": "tf4lov7oxfuk"
      },
      "execution_count": 32,
      "outputs": []
    },
    {
      "cell_type": "markdown",
      "source": [
        "Here's what it looks like:"
      ],
      "metadata": {
        "id": "7Sua2zCAxfuk"
      }
    },
    {
      "cell_type": "code",
      "source": [
        "plot_function(partial(rectified_linear, 1,1))"
      ],
      "metadata": {
        "execution": {
          "iopub.status.busy": "2022-04-22T22:28:41.977336Z",
          "iopub.execute_input": "2022-04-22T22:28:41.978052Z",
          "iopub.status.idle": "2022-04-22T22:28:42.197682Z",
          "shell.execute_reply.started": "2022-04-22T22:28:41.978012Z",
          "shell.execute_reply": "2022-04-22T22:28:42.196709Z"
        },
        "trusted": true,
        "colab": {
          "base_uri": "https://localhost:8080/",
          "height": 328
        },
        "id": "cDvHuoiixfuk",
        "outputId": "eb05de75-887f-469f-a24e-16488cdf581f"
      },
      "execution_count": 33,
      "outputs": [
        {
          "output_type": "display_data",
          "data": {
            "text/plain": [
              "<Figure size 540x360 with 1 Axes>"
            ],
            "image/png": "[encoded data removed]"
          },
          "metadata": {
            "needs_background": "light"
          }
        }
      ]
    },
    {
      "cell_type": "markdown",
      "source": [
        "BTW, instead of `torch.clip(y, 0.)`, we can instead use `F.relu(x)`, which does exactly the same thing. In PyTorch, `F` refers to the `torch.nn.functional` module."
      ],
      "metadata": {
        "id": "xeCToOOtxfuk"
      }
    },
    {
      "cell_type": "code",
      "source": [
        "import torch.nn.functional as F\n",
        "\n",
        "def rectified_linear2(m,b,x): \n",
        "  return F.relu(m*x+b)\n",
        "\n",
        "plot_function(partial(rectified_linear2, 1,1))"
      ],
      "metadata": {
        "execution": {
          "iopub.status.busy": "2022-04-22T22:28:42.199561Z",
          "iopub.execute_input": "2022-04-22T22:28:42.200133Z",
          "iopub.status.idle": "2022-04-22T22:28:42.40433Z",
          "shell.execute_reply.started": "2022-04-22T22:28:42.200083Z",
          "shell.execute_reply": "2022-04-22T22:28:42.403323Z"
        },
        "trusted": true,
        "colab": {
          "base_uri": "https://localhost:8080/",
          "height": 328
        },
        "id": "yYp3dpElxful",
        "outputId": "73412578-0a07-48d6-c022-af801864e3f5"
      },
      "execution_count": 35,
      "outputs": [
        {
          "output_type": "display_data",
          "data": {
            "text/plain": [
              "<Figure size 540x360 with 1 Axes>"
            ],
            "image/png": "[encoded data removed]"
          },
          "metadata": {
            "needs_background": "light"
          }
        }
      ]
    },
    {
      "cell_type": "markdown",
      "source": [
        "To understand how this function works, try using this interactive version to play around with the parameters `m` and `b`:"
      ],
      "metadata": {
        "id": "Wii6eTYbxful"
      }
    },
    {
      "cell_type": "code",
      "source": [
        "@interact(m=1.5, b=1.5)\n",
        "\n",
        "def plot_relu(m, b):\n",
        "    plot_function(partial(rectified_linear, m,b), ylim=(-1,4))"
      ],
      "metadata": {
        "execution": {
          "iopub.status.busy": "2022-04-22T22:28:42.405808Z",
          "iopub.execute_input": "2022-04-22T22:28:42.406108Z",
          "iopub.status.idle": "2022-04-22T22:28:42.61219Z",
          "shell.execute_reply.started": "2022-04-22T22:28:42.406071Z",
          "shell.execute_reply": "2022-04-22T22:28:42.61144Z"
        },
        "trusted": true,
        "colab": {
          "base_uri": "https://localhost:8080/",
          "height": 397,
          "referenced_widgets": [
            "bb0e62a001ae4dd8a4f6b7ffb26c561b",
            "7d67b780c5fb427f833c20a4d65a3ddc",
            "0f04e4190047401790fa333b7588c522",
            "856e139081f348c5a0697dee60d99fb8",
            "f3615ddfae464400a481f57c6960cde2",
            "e0299bf39e354fb29b8ff60b27724c4f",
            "c6430f9c82b142bd990d2aeac03c1c2e",
            "6feb0fd95aa141dfa9cb33dcdc01ef12",
            "cde8de474bd84b2d88fe4eaa61fb94c4",
            "60c3e215d9c845c89d2f24044c66e00d"
          ]
        },
        "id": "hEBv4D_jxful",
        "outputId": "14ed15fc-b4ff-4678-9e16-a594dc0072d9"
      },
      "execution_count": 36,
      "outputs": [
        {
          "output_type": "display_data",
          "data": {
            "text/plain": [
              "interactive(children=(FloatSlider(value=1.5, description='m', max=4.5, min=-1.5), FloatSlider(value=1.5, descr…"
            ],
            "application/vnd.jupyter.widget-view+json": {
              "version_major": 2,
              "version_minor": 0,
              "model_id": "bb0e62a001ae4dd8a4f6b7ffb26c561b"
            }
          },
          "metadata": {}
        }
      ]
    },
    {
      "cell_type": "markdown",
      "source": [
        "As you see, `m` changes the slope, and `b` changes where the \"hook\" appears. This function doesn't do much on its own, but look what happens when we add two of them together:"
      ],
      "metadata": {
        "id": "Xqe4iWl_xful"
      }
    },
    {
      "cell_type": "code",
      "source": [
        "def double_relu(m1,b1,m2,b2,x):\n",
        "    return rectified_linear(m1,b1,x) + rectified_linear(m2,b2,x)\n",
        "\n",
        "@interact(m1=-1.5, b1=-1.5, m2=1.5, b2=1.5)\n",
        "def plot_double_relu(m1, b1, m2, b2):\n",
        "    plot_function(partial(double_relu, m1,b1,m2,b2), ylim=(-1,6))"
      ],
      "metadata": {
        "execution": {
          "iopub.status.busy": "2022-04-22T22:28:42.613745Z",
          "iopub.execute_input": "2022-04-22T22:28:42.614042Z",
          "iopub.status.idle": "2022-04-22T22:28:42.851224Z",
          "shell.execute_reply.started": "2022-04-22T22:28:42.614007Z",
          "shell.execute_reply": "2022-04-22T22:28:42.85035Z"
        },
        "trusted": true,
        "colab": {
          "base_uri": "https://localhost:8080/",
          "height": 461,
          "referenced_widgets": [
            "6f2e9aa2f151466987b983cb4cc4f496",
            "2e27a49b5d4d405aafc110ff9e6bea4e",
            "112adabbc5964a7ab3f5c8d348db0bed",
            "2825e7f7add840289cce74f3707d0eb2",
            "178268edef7741a3ab0da135516d278c",
            "21256c2846d642ddb03b4fa8dd7e40a0",
            "48f51c4baa0245f7b4bc6c245e362e3c",
            "8b8c224f90fc48b09d471616638db83b",
            "e1284a6d12264dccb64b8212780393fc",
            "ddff2c8178b842a0843513ac773033d1",
            "c9864c5112a1415eb8fa353e2af6032d",
            "17cce06965b948948856e497ef78f0e9",
            "c985981b351c40eca6de0b38dbbeacc6",
            "ac35782fcf3a4a6c9d02cb52ad928798",
            "e9cd2fe994dd4d8baa7becef60f74a44",
            "3cdc1915a04f4539bc4e0ca9fd655af9"
          ]
        },
        "id": "3F84_kafxful",
        "outputId": "3058079e-74be-4c6a-c7d0-fb46ac3c0c8c"
      },
      "execution_count": 37,
      "outputs": [
        {
          "output_type": "display_data",
          "data": {
            "text/plain": [
              "interactive(children=(FloatSlider(value=-1.5, description='m1', max=1.5, min=-4.5), FloatSlider(value=-1.5, de…"
            ],
            "application/vnd.jupyter.widget-view+json": {
              "version_major": 2,
              "version_minor": 0,
              "model_id": "6f2e9aa2f151466987b983cb4cc4f496"
            }
          },
          "metadata": {}
        }
      ]
    },
    {
      "cell_type": "markdown",
      "source": [
        "If you play around with that for a while, you notice something quite profound: with enough of these rectified linear functions added together, you could approximate any function with a single input, to whatever accuracy you like! Any time the function doesn't quite match, you can just add a few more additions to the mix to make it a bit closer. As an experiment, perhaps you'd like to try creating your own `plot_triple_relu` interactive function, and maybe even include the scatter plot of our data from before, to see how close you can get?\n",
        "\n",
        "This exact same approach can be expanded to functions of 2, 3, or more parameters."
      ],
      "metadata": {
        "id": "oDhj4_x3xful"
      }
    },
    {
      "cell_type": "markdown",
      "source": [
        "## How to recognise an owl"
      ],
      "metadata": {
        "id": "_Rhs1OuOxful"
      }
    },
    {
      "cell_type": "markdown",
      "source": [
        "OK great, we've created a nifty little example showing that we can drawing squiggly lines that go through some points. So what?\n",
        "\n",
        "Well... the truth is that actually drawing squiggly lines (or planes, or high-dimensional hyperplanes...) through some points is literally *all that deep learning does*! If your data points are, say, the RGB values of pixels in photos of owls, then you can create an owl-recogniser model by following the exact steps above.\n",
        "\n",
        "This may, at first, sound about as useful as the classic \"how to draw an owl\" guide:"
      ],
      "metadata": {
        "id": "VLUqU-y7xfum"
      }
    },
    {
      "cell_type": "markdown",
      "source": [
        "Students often ask me at this point \"OK Jeremy, but how do neural nets *actually work*\". But at a foundational level, there is no \"step 2\". We're done -- the above steps will, given enough time and enough data, create (for example) an owl recogniser, if you feed in enough owls (and non-owls).\n",
        "\n",
        "The devil, I guess, is in the \"given enough time and enough data\" part of the above sentence. There's a *lot* of tweaks we can make to reduce both of these things. For instance, instead of running our calculations on a normal CPU, as we've done above, we could do thousands of them simultaneously by taking advantage of a GPU. We could greatly reduce the amount of computation and data needed by using a convolution instead of a matrix multiplication, which basically means skipping over a bunch of the multiplications and additions for bits that you'd guess won't be important. We could make things much faster if, instead of starting with random parameters, we start with parameters of someone else's model that does something similar to what we want (this is called *transfer learning*).\n",
        "\n",
        "And, of course, there's lots of helpful software out there to do this stuff for you without too much fuss. Like, say, [fastai](https://docs.fast.ai).\n",
        "\n",
        "Learning these things is what we teach in our [course](https://course.fast.ai), which, like everything we make, is totally free. So if you're interested in learning more, do check it out!"
      ],
      "metadata": {
        "id": "PCPom4UQxfum"
      }
    },
    {
      "cell_type": "markdown",
      "source": [
        "As always, if you enjoyed this notebook, please upvote it to help others find it, and to encourage me to write more. If you upvote it, be careful you don't accidentally upvote your copy that's created when you click \"Copy & Edit\" -- you can find my original at [this link](https://www.kaggle.com/code/jhoward/how-does-a-neural-net-really-work)."
      ],
      "metadata": {
        "id": "uIzwIBBrxfum"
      }
    },
    {
      "cell_type": "code",
      "source": [],
      "metadata": {
        "id": "wSAxOJ6Gxfum"
      },
      "execution_count": null,
      "outputs": []
    }
  ]
}